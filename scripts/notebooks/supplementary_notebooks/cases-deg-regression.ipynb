{
 "cells": [
  {
   "cell_type": "code",
   "execution_count": 1,
   "metadata": {},
   "outputs": [],
   "source": [
    "import pandas as pd\n",
    "import numpy as np\n",
    "from tqdm import tqdm\n",
    "import igraph as ig\n",
    "import os\n",
    "import yaml\n",
    "from os.path import join\n",
    "import matplotlib.pyplot as plt\n",
    "from datetime import datetime, timedelta\n",
    "import matplotlib.dates as mdates\n",
    "import matplotlib.patches as mpatches\n",
    "from scipy.stats import entropy\n",
    "from scipy import stats\n",
    "from functools import reduce\n",
    "import sys\n",
    "sys.path.insert(1, '..')\n",
    "from utils import *\n",
    "from collections import Counter\n",
    "import geopandas as gpd\n",
    "import matplotlib.ticker as ticker\n",
    "import geopandas as gpd\n",
    "from scipy.spatial import distance\n",
    "import matplotlib.gridspec as gridspec\n",
    "\n",
    "import warnings\n",
    "warnings.filterwarnings(\"ignore\")\n",
    "\n",
    "%matplotlib inline"
   ]
  },
  {
   "cell_type": "code",
   "execution_count": 2,
   "metadata": {},
   "outputs": [],
   "source": [
    "FIG_SAVE_DIR = join('..', '..', 'figures')\n",
    "RESULT_SAVE_DIR = join('..', '..', 'results')"
   ]
  },
  {
   "cell_type": "code",
   "execution_count": 3,
   "metadata": {},
   "outputs": [
    {
     "name": "stderr",
     "output_type": "stream",
     "text": [
      "100%|████████████████████████████████████████████████████████████████████████████████| 107/107 [00:37<00:00,  2.82it/s]\n"
     ]
    }
   ],
   "source": [
    "with open(join('..', '..', 'config.yml')) as f:\n",
    "    config = yaml.safe_load(f)\n",
    "    \n",
    "pwd = config['pwd']\n",
    "dpath = config['storage']\n",
    "patterns = config['pattern-data-path']\n",
    "\n",
    "AREA_NAME = 'NYC'\n",
    "NETWORK_DIR = join(pwd, dpath, 'Nets', f'{AREA_NAME}-CBG-CBG-Nets')\n",
    "nets = [(datetime.strptime(f, '%Y-%m-%d'), datetime.strptime(f, '%Y-%m-%d').isocalendar()[1], ig.Graph.Read_Pickle(join(NETWORK_DIR, f))) \n",
    "            for f in tqdm(os.listdir(NETWORK_DIR))]\n",
    "nets = np.array(sorted(nets, key=lambda x: x[0]))"
   ]
  },
  {
   "cell_type": "code",
   "execution_count": 4,
   "metadata": {},
   "outputs": [],
   "source": [
    "cases_df = pd.read_csv(join(pwd, 'util_datasets', 'nyc-cases-by-cbgs.csv'))\n",
    "cases_df.Date = pd.to_datetime(cases_df.Date)\n",
    "cases_df.cbg = cases_df.cbg.astype(str)"
   ]
  },
  {
   "cell_type": "code",
   "execution_count": 5,
   "metadata": {},
   "outputs": [],
   "source": [
    "tdate = cases_df.Date.min() - timedelta(weeks=2)"
   ]
  },
  {
   "cell_type": "code",
   "execution_count": 6,
   "metadata": {},
   "outputs": [
    {
     "name": "stderr",
     "output_type": "stream",
     "text": [
      "100%|██████████████████████████████████████████████████████████████████████████████████| 44/44 [07:16<00:00,  9.93s/it]\n"
     ]
    }
   ],
   "source": [
    "cent_metrics = [\n",
    "    ('Closeness', ig.Graph.closeness, {'cutoff': 3, 'normalized': True}), \n",
    "    ('Betweenness', ig.Graph.betweenness, {'cutoff': 3, 'directed': True}), \n",
    "    ('Eigenvector', ig.Graph.eigenvector_centrality, {'directed': True, 'scale': True}),\n",
    "    ('In-Degree', 'in', None),\n",
    "    ('Out-Degree', 'out', None),\n",
    "    ('Self-Visit-Ratio', 'self', None)\n",
    "]\n",
    "\n",
    "tnets = nets[nets[:, 0] >= tdate]\n",
    "\n",
    "date2vec = {} \n",
    "for tp in tqdm(tnets):\n",
    "    date = tp[0]\n",
    "    tnet = tp[-1]\n",
    "    cbgs = tnet.vs['name']\n",
    "    row_entries = []\n",
    "    for cent_metric_name, metric, params in cent_metrics:\n",
    "        if not isinstance(metric, str) and params:\n",
    "            if cent_metric_name != 'Eigenvector':\n",
    "                values = pd.Series(metric(tnet, vertices=cbgs, **params), index=cbgs)\n",
    "            else:\n",
    "                values = pd.Series(metric(tnet, **params), index=cbgs)\n",
    "        elif isinstance(metric, str) and not params:\n",
    "            if metric != 'self':\n",
    "                values = pd.Series(tnet.strength(cbgs, loops=False, mode=metric, weights='visits'), index=cbgs)\n",
    "            else:\n",
    "                self_visits = np.subtract(tnet.strength(cbgs, loops=True, mode='in', weights='visits'), tnet.strength(mode='in', loops=False, weights='visits'))\n",
    "                out_visits = np.array(tnet.strength(cbgs, loops=False, mode='out', weights='visits'))\n",
    "                total_visits = self_visits + out_visits + 0.001\n",
    "\n",
    "                values = pd.Series(self_visits/total_visits, index=cbgs)\n",
    "        row_entries.append(values)\n",
    "        \n",
    "    date2vec[date] = pd.concat(row_entries, axis=1).reset_index()"
   ]
  },
  {
   "cell_type": "code",
   "execution_count": 7,
   "metadata": {},
   "outputs": [
    {
     "name": "stderr",
     "output_type": "stream",
     "text": [
      "100%|██████████████████████████████████████████████████████████████████████████████████| 48/48 [00:00<00:00, 75.03it/s]\n"
     ]
    }
   ],
   "source": [
    "mob_dates = cases_df.groupby('Date').groups\n",
    "data = []\n",
    "\n",
    "for mob_date, ind in tqdm(mob_dates.items()):\n",
    "    td = mob_date - timedelta(weeks=2)\n",
    "    if td in date2vec:\n",
    "        vec = date2vec[td]\n",
    "        data.append(pd.merge(cases_df.loc[ind, ['Norm_Cases', 'cbg']], vec, how='inner', left_on='cbg', right_on='index').drop(['index', 'cbg'], axis=1))"
   ]
  },
  {
   "cell_type": "code",
   "execution_count": 8,
   "metadata": {},
   "outputs": [],
   "source": [
    "cases_vec = pd.concat(data, axis=0).reset_index(drop=True)\n",
    "cases_vec.columns = ['cases', 'closeness', 'betweenness', 'eigenvector', 'in-degree', 'out-degree', 'self-visit-ratio']"
   ]
  },
  {
   "cell_type": "code",
   "execution_count": 19,
   "metadata": {},
   "outputs": [],
   "source": [
    "import statsmodels.api as sm\n",
    "from sklearn.preprocessing import StandardScaler\n",
    "\n",
    "X_features = ['betweenness', 'in-degree', 'out-degree', 'self-visit-ratio']\n",
    "X = StandardScaler().fit_transform(cases_vec[X_features])\n",
    "X = pd.DataFrame(X, columns=X_features)\n",
    "y = cases_vec['cases']\n",
    "\n",
    "X = sm.add_constant(X)\n",
    "result = sm.OLS(y,X).fit()"
   ]
  },
  {
   "cell_type": "code",
   "execution_count": 20,
   "metadata": {},
   "outputs": [
    {
     "data": {
      "text/html": [
       "<table class=\"simpletable\">\n",
       "<caption>OLS Regression Results</caption>\n",
       "<tr>\n",
       "  <th>Dep. Variable:</th>          <td>cases</td>      <th>  R-squared:         </th>  <td>   0.023</td>  \n",
       "</tr>\n",
       "<tr>\n",
       "  <th>Model:</th>                   <td>OLS</td>       <th>  Adj. R-squared:    </th>  <td>   0.023</td>  \n",
       "</tr>\n",
       "<tr>\n",
       "  <th>Method:</th>             <td>Least Squares</td>  <th>  F-statistic:       </th>  <td>   1564.</td>  \n",
       "</tr>\n",
       "<tr>\n",
       "  <th>Date:</th>             <td>Tue, 26 Oct 2021</td> <th>  Prob (F-statistic):</th>   <td>  0.00</td>   \n",
       "</tr>\n",
       "<tr>\n",
       "  <th>Time:</th>                 <td>11:11:07</td>     <th>  Log-Likelihood:    </th> <td>-5.5553e+05</td>\n",
       "</tr>\n",
       "<tr>\n",
       "  <th>No. Observations:</th>      <td>260348</td>      <th>  AIC:               </th>  <td>1.111e+06</td> \n",
       "</tr>\n",
       "<tr>\n",
       "  <th>Df Residuals:</th>          <td>260343</td>      <th>  BIC:               </th>  <td>1.111e+06</td> \n",
       "</tr>\n",
       "<tr>\n",
       "  <th>Df Model:</th>              <td>     4</td>      <th>                     </th>      <td> </td>     \n",
       "</tr>\n",
       "<tr>\n",
       "  <th>Covariance Type:</th>      <td>nonrobust</td>    <th>                     </th>      <td> </td>     \n",
       "</tr>\n",
       "</table>\n",
       "<table class=\"simpletable\">\n",
       "<tr>\n",
       "          <td></td>            <th>coef</th>     <th>std err</th>      <th>t</th>      <th>P>|t|</th>  <th>[0.025</th>    <th>0.975]</th>  \n",
       "</tr>\n",
       "<tr>\n",
       "  <th>const</th>            <td>    1.5633</td> <td>    0.004</td> <td>  390.271</td> <td> 0.000</td> <td>    1.555</td> <td>    1.571</td>\n",
       "</tr>\n",
       "<tr>\n",
       "  <th>betweenness</th>      <td>    0.0083</td> <td>    0.005</td> <td>    1.543</td> <td> 0.123</td> <td>   -0.002</td> <td>    0.019</td>\n",
       "</tr>\n",
       "<tr>\n",
       "  <th>in-degree</th>        <td>   -0.0910</td> <td>    0.005</td> <td>  -17.650</td> <td> 0.000</td> <td>   -0.101</td> <td>   -0.081</td>\n",
       "</tr>\n",
       "<tr>\n",
       "  <th>out-degree</th>       <td>    0.3109</td> <td>    0.004</td> <td>   70.380</td> <td> 0.000</td> <td>    0.302</td> <td>    0.320</td>\n",
       "</tr>\n",
       "<tr>\n",
       "  <th>self-visit-ratio</th> <td>    0.1715</td> <td>    0.004</td> <td>   40.730</td> <td> 0.000</td> <td>    0.163</td> <td>    0.180</td>\n",
       "</tr>\n",
       "</table>\n",
       "<table class=\"simpletable\">\n",
       "<tr>\n",
       "  <th>Omnibus:</th>       <td>229367.171</td> <th>  Durbin-Watson:     </th>   <td>   0.424</td>  \n",
       "</tr>\n",
       "<tr>\n",
       "  <th>Prob(Omnibus):</th>   <td> 0.000</td>   <th>  Jarque-Bera (JB):  </th> <td>29731814.673</td>\n",
       "</tr>\n",
       "<tr>\n",
       "  <th>Skew:</th>            <td> 3.713</td>   <th>  Prob(JB):          </th>   <td>    0.00</td>  \n",
       "</tr>\n",
       "<tr>\n",
       "  <th>Kurtosis:</th>        <td>54.823</td>   <th>  Cond. No.          </th>   <td>    2.27</td>  \n",
       "</tr>\n",
       "</table><br/><br/>Notes:<br/>[1] Standard Errors assume that the covariance matrix of the errors is correctly specified."
      ],
      "text/plain": [
       "<class 'statsmodels.iolib.summary.Summary'>\n",
       "\"\"\"\n",
       "                            OLS Regression Results                            \n",
       "==============================================================================\n",
       "Dep. Variable:                  cases   R-squared:                       0.023\n",
       "Model:                            OLS   Adj. R-squared:                  0.023\n",
       "Method:                 Least Squares   F-statistic:                     1564.\n",
       "Date:                Tue, 26 Oct 2021   Prob (F-statistic):               0.00\n",
       "Time:                        11:11:07   Log-Likelihood:            -5.5553e+05\n",
       "No. Observations:              260348   AIC:                         1.111e+06\n",
       "Df Residuals:                  260343   BIC:                         1.111e+06\n",
       "Df Model:                           4                                         \n",
       "Covariance Type:            nonrobust                                         \n",
       "====================================================================================\n",
       "                       coef    std err          t      P>|t|      [0.025      0.975]\n",
       "------------------------------------------------------------------------------------\n",
       "const                1.5633      0.004    390.271      0.000       1.555       1.571\n",
       "betweenness          0.0083      0.005      1.543      0.123      -0.002       0.019\n",
       "in-degree           -0.0910      0.005    -17.650      0.000      -0.101      -0.081\n",
       "out-degree           0.3109      0.004     70.380      0.000       0.302       0.320\n",
       "self-visit-ratio     0.1715      0.004     40.730      0.000       0.163       0.180\n",
       "==============================================================================\n",
       "Omnibus:                   229367.171   Durbin-Watson:                   0.424\n",
       "Prob(Omnibus):                  0.000   Jarque-Bera (JB):         29731814.673\n",
       "Skew:                           3.713   Prob(JB):                         0.00\n",
       "Kurtosis:                      54.823   Cond. No.                         2.27\n",
       "==============================================================================\n",
       "\n",
       "Notes:\n",
       "[1] Standard Errors assume that the covariance matrix of the errors is correctly specified.\n",
       "\"\"\""
      ]
     },
     "execution_count": 20,
     "metadata": {},
     "output_type": "execute_result"
    }
   ],
   "source": [
    "result.summary()"
   ]
  },
  {
   "cell_type": "code",
   "execution_count": null,
   "metadata": {},
   "outputs": [],
   "source": []
  }
 ],
 "metadata": {
  "kernelspec": {
   "display_name": "sg_mob",
   "language": "python",
   "name": "sg_mob"
  },
  "language_info": {
   "codemirror_mode": {
    "name": "ipython",
    "version": 3
   },
   "file_extension": ".py",
   "mimetype": "text/x-python",
   "name": "python",
   "nbconvert_exporter": "python",
   "pygments_lexer": "ipython3",
   "version": "3.8.6"
  }
 },
 "nbformat": 4,
 "nbformat_minor": 4
}
