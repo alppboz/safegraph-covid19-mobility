{
 "cells": [
  {
   "cell_type": "code",
   "execution_count": 22,
   "metadata": {},
   "outputs": [],
   "source": [
    "import sys\n",
    "sys.path.insert(1, '..')\n",
    "from utils import *\n",
    "\n",
    "%matplotlib inline"
   ]
  },
  {
   "cell_type": "code",
   "execution_count": 2,
   "metadata": {},
   "outputs": [
    {
     "name": "stderr",
     "output_type": "stream",
     "text": [
      "100%|████████████████████████████████████████████████████████████████████████████████| 107/107 [00:51<00:00,  2.10it/s]\n"
     ]
    }
   ],
   "source": [
    "with open(join('..', '..', 'config.yml')) as f:\n",
    "    config = yaml.safe_load(f)\n",
    "    \n",
    "pwd = config['pwd']\n",
    "dpath = config['storage']\n",
    "patterns = config['pattern-data-path']\n",
    "util_datasets = config['util_datasets']\n",
    "datasets = config['datasets']\n",
    "colors = config['colors']\n",
    "\n",
    "FIG_SAVE_DIR = join(pwd, 'figures')\n",
    "RESULT_SAVE_DIR = join(pwd, 'results')\n",
    "\n",
    "AREA_NAME = 'NYC'\n",
    "network_dir = join(pwd, dpath, 'mobility-networks', f'{AREA_NAME}-CBG-CBG-Nets-msa')\n",
    "nets = load_networks(network_dir)"
   ]
  },
  {
   "cell_type": "code",
   "execution_count": 3,
   "metadata": {},
   "outputs": [],
   "source": [
    "msa_counties = pd.read_csv(join(pwd, util_datasets, AREA_NAME, datasets['nyc-msa']))['fips'].astype(np.int64)"
   ]
  },
  {
   "cell_type": "code",
   "execution_count": 4,
   "metadata": {},
   "outputs": [],
   "source": [
    "census_data = join(pwd, util_datasets, datasets['census-data'])\n",
    "census_quartiles, census_raw = get_census_attributes(census_data, msa_counties)"
   ]
  },
  {
   "cell_type": "code",
   "execution_count": 5,
   "metadata": {},
   "outputs": [],
   "source": [
    "nyc_census = census_raw[(census_raw.census_block_group // 10**7).isin(nyc_borough_fips_codes)]"
   ]
  },
  {
   "cell_type": "code",
   "execution_count": 17,
   "metadata": {},
   "outputs": [],
   "source": [
    "common_cbgs_across_nets = []\n",
    "for net in nets:\n",
    "    nodes = net[1].vs['name']\n",
    "    common_cbgs_across_nets.append(set(nodes))\n",
    "common_cbgs_across_nets = list(reduce(set.intersection, common_cbgs_across_nets))\n",
    "common_cbgs_across_nets = [cbg for cbg in common_cbgs_across_nets if int(cbg[:5]) in nyc_borough_fips_codes.keys()]"
   ]
  },
  {
   "cell_type": "code",
   "execution_count": 18,
   "metadata": {},
   "outputs": [
    {
     "name": "stderr",
     "output_type": "stream",
     "text": [
      "100%|██████████████████████████████████████████████████████████████████████████████████| 54/54 [00:01<00:00, 33.26it/s]\n"
     ]
    },
    {
     "data": {
      "text/html": [
       "<div>\n",
       "<style scoped>\n",
       "    .dataframe tbody tr th:only-of-type {\n",
       "        vertical-align: middle;\n",
       "    }\n",
       "\n",
       "    .dataframe tbody tr th {\n",
       "        vertical-align: top;\n",
       "    }\n",
       "\n",
       "    .dataframe thead th {\n",
       "        text-align: right;\n",
       "    }\n",
       "</style>\n",
       "<table border=\"1\" class=\"dataframe\">\n",
       "  <thead>\n",
       "    <tr style=\"text-align: right;\">\n",
       "      <th></th>\n",
       "      <th>date</th>\n",
       "      <th>cbg</th>\n",
       "      <th>mobility</th>\n",
       "    </tr>\n",
       "  </thead>\n",
       "  <tbody>\n",
       "    <tr>\n",
       "      <th>0</th>\n",
       "      <td>2020-01-06</td>\n",
       "      <td>360610114012</td>\n",
       "      <td>319.0</td>\n",
       "    </tr>\n",
       "    <tr>\n",
       "      <th>1</th>\n",
       "      <td>2020-01-06</td>\n",
       "      <td>360811059003</td>\n",
       "      <td>497.0</td>\n",
       "    </tr>\n",
       "    <tr>\n",
       "      <th>2</th>\n",
       "      <td>2020-01-06</td>\n",
       "      <td>360811333004</td>\n",
       "      <td>541.0</td>\n",
       "    </tr>\n",
       "    <tr>\n",
       "      <th>3</th>\n",
       "      <td>2020-01-06</td>\n",
       "      <td>360811085002</td>\n",
       "      <td>510.0</td>\n",
       "    </tr>\n",
       "    <tr>\n",
       "      <th>4</th>\n",
       "      <td>2020-01-06</td>\n",
       "      <td>360050016002</td>\n",
       "      <td>367.0</td>\n",
       "    </tr>\n",
       "  </tbody>\n",
       "</table>\n",
       "</div>"
      ],
      "text/plain": [
       "        date           cbg  mobility\n",
       "0 2020-01-06  360610114012     319.0\n",
       "1 2020-01-06  360811059003     497.0\n",
       "2 2020-01-06  360811333004     541.0\n",
       "3 2020-01-06  360811085002     510.0\n",
       "4 2020-01-06  360050016002     367.0"
      ]
     },
     "execution_count": 18,
     "metadata": {},
     "output_type": "execute_result"
    }
   ],
   "source": [
    "wattr = 'visits'\n",
    "tdate = datetime(2020, 1, 1)\n",
    "raw_mobility_values = []\n",
    "for net_pair in tqdm(nets[nets[:, 0] > tdate]):\n",
    "    date = net_pair[0]\n",
    "    net = net_pair[1]\n",
    "        \n",
    "    total_outflow = net.strength(common_cbgs_across_nets, mode='out', weights=wattr, loops=True)\n",
    "    \n",
    "    for ind, cbg in enumerate(common_cbgs_across_nets):\n",
    "        raw_mobility_values.append({\n",
    "            'date': date,\n",
    "            'cbg': cbg,\n",
    "            'mobility': total_outflow[ind]\n",
    "        })\n",
    "    \n",
    "mobility_df = pd.DataFrame(raw_mobility_values)\n",
    "mobility_df.head()"
   ]
  },
  {
   "cell_type": "code",
   "execution_count": 57,
   "metadata": {},
   "outputs": [],
   "source": [
    "def combine_mobility_with_demographics(mob_df, census_df, how='inner'):\n",
    "    return pd.merge(mob_df, census_df, left_on='cbg', right_on='census_block_group', how=how)\n",
    "\n",
    "def calc_pct_change(init_value, final_value):\n",
    "    return (final_value-init_value)/init_value*100\n",
    "\n",
    "reg_periods = {\n",
    "    'before-covid': {\n",
    "        'begin-date': datetime(2020, 1, 1),\n",
    "        'end-date': datetime(2020, 2, 28),\n",
    "    },\n",
    "    'first-phase': {\n",
    "        'begin-date': datetime(2020, 3, 1),\n",
    "        'end-date': datetime(2020, 6, 8)\n",
    "    },\n",
    "    'summer-term': {\n",
    "        'begin-date': datetime(2020, 6, 8),\n",
    "        'end-date': datetime(2020, 10, 30)\n",
    "    }\n",
    "}\n",
    "\n",
    "period_rel = [('before-covid', 'first-phase'), ('first-phase', 'summer-term')]\n",
    "\n",
    "# first/last num of weeks to consider in each period\n",
    "num_weeks_to_consider = 2"
   ]
  },
  {
   "cell_type": "code",
   "execution_count": 20,
   "metadata": {},
   "outputs": [],
   "source": [
    "reg_dir = join(RESULT_SAVE_DIR, 'mobility')"
   ]
  },
  {
   "cell_type": "code",
   "execution_count": 55,
   "metadata": {},
   "outputs": [],
   "source": [
    "feature_names = ['income', 'white_population', 'asian_population', 'hispanic_population', 'education', 'mean_time_to_work']\n",
    "for period in reg_periods:\n",
    "    begin_date = reg_periods[period]['begin-date']\n",
    "    end_date = reg_periods[period]['end-date']\n",
    "    \n",
    "    begin_period_mob = mobility_df[(mobility_df.date >= begin_date) & (mobility_df.date <= begin_date + timedelta(weeks=num_weeks_to_consider))]\n",
    "    end_period_mob = mobility_df[(mobility_df.date <= end_date) & (mobility_df.date >= end_date - timedelta(weeks=num_weeks_to_consider))]\n",
    "    \n",
    "    start_mob = begin_period_mob.groupby('cbg')['mobility'].median()\n",
    "    end_mob = end_period_mob.groupby('cbg')['mobility'].median()\n",
    "    \n",
    "    mob_change = calc_pct_change(start_mob, end_mob).replace(np.inf, np.nan).replace(-np.inf, np.nan).dropna()\n",
    "    mob_change.index = mob_change.index.astype(np.int64)\n",
    "    feature_mat = combine_mobility_with_demographics(pd.DataFrame(mob_change).reset_index(), census_raw)\n",
    "        \n",
    "    y = pd.DataFrame(stats.zscore(feature_mat['mobility'], nan_policy='omit'), columns=['mobility'])\n",
    "    X = pd.DataFrame(stats.zscore(feature_mat[feature_names], nan_policy='omit'), columns=feature_names)\n",
    "    X = sm.add_constant(X)\n",
    "    \n",
    "    result = sm.OLS(y, X, missing='drop').fit()\n",
    "    with open(join(reg_dir, f'mobility-norm-nyc-{period}.txt'), 'w') as f:\n",
    "        f.write(result.summary().as_text())"
   ]
  },
  {
   "cell_type": "code",
   "execution_count": 60,
   "metadata": {},
   "outputs": [],
   "source": [
    "feature_names = ['white_population', 'asian_population', 'hispanic_population', 'education', 'mean_time_to_work']\n",
    "# if false, evaluate the change between start and end of each period\n",
    "# if true, between medians of periods\n",
    "between_periods = False\n",
    "for start, end in period_rel:\n",
    "    start_start_date = reg_periods[start]['begin-date']\n",
    "    start_end_date = reg_periods[start]['end-date']\n",
    "    \n",
    "    end_start_date = reg_periods[end]['begin-date']\n",
    "    end_end_date = reg_periods[end]['end-date']\n",
    "    \n",
    "    begin_period_mob = mobility_df[(mobility_df.date >= start_start_date) & (mobility_df.date <= start_end_date)]\n",
    "    end_period_mob = mobility_df[(mobility_df.date >= end_start_date) & (mobility_df.date <= end_end_date)]\n",
    "    \n",
    "    start_mob = begin_period_mob.groupby('cbg')['mobility'].median()\n",
    "    end_mob = end_period_mob.groupby('cbg')['mobility'].median()\n",
    "    \n",
    "    mob_change = calc_pct_change(start_mob, end_mob).replace(np.inf, np.nan).replace(-np.inf, np.nan).dropna()\n",
    "    mob_change.index = mob_change.index.astype(np.int64)\n",
    "    feature_mat = combine_mobility_with_demographics(pd.DataFrame(mob_change).reset_index(), census_raw)\n",
    "        \n",
    "    y = pd.DataFrame(stats.zscore(feature_mat['mobility'], nan_policy='omit'), columns=['mobility'])\n",
    "    X = pd.DataFrame(stats.zscore(feature_mat[feature_names], nan_policy='omit'), columns=feature_names)\n",
    "    X = sm.add_constant(X)\n",
    "    \n",
    "    result = sm.OLS(y, X, missing='drop').fit()\n",
    "    with open(join(reg_dir, f'mobility-norm-nyc-between-{start}-{end}.txt'), 'w') as f:\n",
    "        f.write(result.summary().as_text())"
   ]
  },
  {
   "cell_type": "code",
   "execution_count": null,
   "metadata": {},
   "outputs": [],
   "source": []
  }
 ],
 "metadata": {
  "kernelspec": {
   "display_name": "sg_mob",
   "language": "python",
   "name": "sg_mob"
  },
  "language_info": {
   "codemirror_mode": {
    "name": "ipython",
    "version": 3
   },
   "file_extension": ".py",
   "mimetype": "text/x-python",
   "name": "python",
   "nbconvert_exporter": "python",
   "pygments_lexer": "ipython3",
   "version": "3.8.6"
  }
 },
 "nbformat": 4,
 "nbformat_minor": 4
}
