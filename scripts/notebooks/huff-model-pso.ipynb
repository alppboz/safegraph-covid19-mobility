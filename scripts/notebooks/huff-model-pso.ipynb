{
 "cells": [
  {
   "cell_type": "code",
   "execution_count": 1,
   "metadata": {},
   "outputs": [],
   "source": [
    "import sys\n",
    "sys.path.insert(1, '..')\n",
    "from utils import *\n",
    "from sklearn.metrics.pairwise import haversine_distances\n",
    "from math import radians\n",
    "from scipy.stats import gmean\n",
    "import seaborn as sns\n",
    "from pyswarms.single.global_best import GlobalBestPSO\n",
    "\n",
    "%matplotlib inline"
   ]
  },
  {
   "cell_type": "code",
   "execution_count": 2,
   "metadata": {},
   "outputs": [],
   "source": [
    "# https://gist.github.com/dsevero/3f3db7acb45d6cd8e945e8a32eaca168\n",
    "\n",
    "from hashlib import sha256\n",
    "from pandas.util import hash_pandas_object\n",
    "from functools import lru_cache\n",
    "\n",
    "class HashableDataFrame(pd.DataFrame):\n",
    "    def __init__(self, obj):\n",
    "        super().__init__(obj)\n",
    "\n",
    "    def __hash__(self):\n",
    "        hash_value = sha256(hash_pandas_object(self, index=True).values)\n",
    "        hash_value = hash(hash_value.hexdigest())\n",
    "        return hash_value\n",
    "\n",
    "    def __eq__(self, other):\n",
    "        return self.equals(other)\n",
    "\n",
    "\n",
    "class HashableSeries(pd.Series):\n",
    "    def __init__(self, obj):\n",
    "        super().__init__(obj)\n",
    "\n",
    "    def __hash__(self):\n",
    "        hash_value = sha256(hash_pandas_object(self, index=True).values)\n",
    "        hash_value = hash(hash_value.hexdigest())\n",
    "        return hash_value\n",
    "\n",
    "    def __eq__(self, other):\n",
    "        return self.equals(other)\n",
    "    \n",
    "def make_hashable_pandas_object(obj):\n",
    "    if type(obj) is pd.DataFrame:\n",
    "        return HashableDataFrame(obj)\n",
    "    elif type(obj) is pd.Series:\n",
    "        return HashableSeries(obj)\n",
    "    else:\n",
    "        raise Exception(f'obj must be of type DataFrame or Series, '\n",
    "                        f'but is {type(obj)}')"
   ]
  },
  {
   "cell_type": "code",
   "execution_count": 3,
   "metadata": {},
   "outputs": [],
   "source": [
    "with open(join('..', '..', 'config.yml')) as f:\n",
    "    config = yaml.safe_load(f)\n",
    "    \n",
    "pwd = config['pwd']\n",
    "dpath = config['storage']\n",
    "patterns = config['pattern-data-path'] \n",
    "util_datasets = config['util_datasets']\n",
    "datasets = config['datasets']\n",
    "colors = config['colors']\n",
    "AREA_NAME = 'NYC'\n",
    "\n",
    "FIG_SAVE_DIR = join(pwd, 'figures')\n",
    "RESULT_SAVE_DIR = join(pwd, 'results')\n",
    "\n",
    "HUFF_MODEL_SAVE_DIR = join(pwd, util_datasets, 'huff_model_params')\n",
    "if not os.path.isdir(HUFF_MODEL_SAVE_DIR):\n",
    "    os.mkdir(HUFF_MODEL_SAVE_DIR)"
   ]
  },
  {
   "cell_type": "code",
   "execution_count": 4,
   "metadata": {},
   "outputs": [],
   "source": [
    "def get_cbg_locs(selected_cbgs=None):\n",
    "    nyc_geojson = join(pwd, 'util_datasets', AREA_NAME, f'{AREA_NAME}-cbgs.json')\n",
    "    base_df = gpd.read_file(nyc_geojson)\n",
    "    base_df = base_df.to_crs('EPSG:4326')\n",
    "    base_df = base_df[base_df.BLKGRPCE != '0']\n",
    "    \n",
    "    if isinstance(selected_cbgs, str):\n",
    "        base_df = base_df[base_df.GEOID.str[:5] == selected_cbgs]\n",
    "    elif isinstance(selected_cbgs, set):\n",
    "        base_df = base_df[base_df.GEOID.isin(selected_cbgs)]\n",
    "        \n",
    "    base_df['GEOID'] = base_df['GEOID'].astype(str).str[:-1]\n",
    "    base_df = base_df.dissolve(by='GEOID', as_index=False)\n",
    "    \n",
    "    base_df['centroid_lon'] = base_df.geometry.centroid.x\n",
    "    base_df['centroid_lat'] = base_df.geometry.centroid.y\n",
    "    cbg_locs = base_df[['GEOID', 'centroid_lat', 'centroid_lon']].set_index('GEOID')\n",
    "    \n",
    "    return cbg_locs"
   ]
  },
  {
   "cell_type": "code",
   "execution_count": 5,
   "metadata": {},
   "outputs": [],
   "source": [
    "poi_dir = join(pwd, dpath, 'area-pois', AREA_NAME)\n",
    "dfs = []\n",
    "for f in os.listdir(poi_dir):\n",
    "    df = pd.read_csv(join(poi_dir, f))\n",
    "    dfs.append(df)\n",
    "\n",
    "df = pd.concat(dfs).drop_duplicates(subset=['safegraph_place_id'])"
   ]
  },
  {
   "cell_type": "code",
   "execution_count": 6,
   "metadata": {},
   "outputs": [],
   "source": [
    "df['borough'] = df['GEOID'].astype(str).str[:5].apply(lambda x: nyc_fips2borough[int(x)] if int(x) in nyc_fips2borough else 'unk')"
   ]
  },
  {
   "cell_type": "code",
   "execution_count": 7,
   "metadata": {},
   "outputs": [
    {
     "data": {
      "image/png": "[encoded data removed]",
      "text/plain": [
       "<Figure size 720x360 with 1 Axes>"
      ]
     },
     "metadata": {
      "needs_background": "light"
     },
     "output_type": "display_data"
    }
   ],
   "source": [
    "fig, ax = plt.subplots(figsize=(10, 5))\n",
    "\n",
    "vals = df[df['borough'] != 'unk'].borough.value_counts().sort_values()\n",
    "vals.plot.barh(rot=0, ax=ax)\n",
    "\n",
    "for b, v in enumerate(vals):\n",
    "    ax.text(v+500, b, f'{v} - {v/vals.sum()*100:.2f}%', verticalalignment='center', fontsize=14)\n",
    "    \n",
    "ax.set_xlim([0, vals.max()+9000])\n",
    "ax.set_title('Safegraph - Number of POIs by New York City Boroughs', fontsize=20)\n",
    "\n",
    "ax.spines['right'].set_visible(False)\n",
    "ax.spines['left'].set_visible(False)\n",
    "ax.spines['top'].set_visible(False)\n",
    "ax.spines['bottom'].set_visible(False)\n",
    "\n",
    "ax.tick_params(axis='x', labelsize=12)\n",
    "ax.tick_params(axis='y', labelsize=15)\n",
    "\n",
    "fig.savefig(join(FIG_SAVE_DIR, 'nyc-poi-dist-borough.pdf'), bbox_inches='tight', dpi=150)"
   ]
  },
  {
   "cell_type": "code",
   "execution_count": 8,
   "metadata": {},
   "outputs": [],
   "source": [
    "def get_poi_areas(pois):\n",
    "    poi_ids = pd.read_csv(join(pwd, util_datasets, 'safegraph_poi_areas.csv'), usecols=['safegraph_place_id', 'area_square_feet'], index_col='safegraph_place_id')\n",
    "    return pois.join(poi_ids, how='inner')\n",
    "\n",
    "def get_poi_attrs(poi_cat=None):\n",
    "    poi_dir = join(pwd, dpath, 'area-pois', AREA_NAME)\n",
    "    dfs = []\n",
    "    for f in os.listdir(poi_dir):\n",
    "        df = pd.read_csv(join(poi_dir, f))\n",
    "        if poi_cat:\n",
    "            df = df[df['top_category'] == poi_cat]\n",
    "        dfs.append(df)\n",
    "\n",
    "    df = pd.concat(dfs).drop_duplicates(subset=['safegraph_place_id'])\n",
    "\n",
    "    poi_locs = df[['safegraph_place_id', 'latitude', 'longitude']].set_index('safegraph_place_id')\n",
    "    res = get_poi_areas(poi_locs)\n",
    "    return res[['latitude', 'longitude']], res[['area_square_feet']]\n",
    "\n",
    "def get_cbg_poi_div_count():\n",
    "    # return the poi count and diversity in the given cbgs\n",
    "    shape_files = join(pwd, 'util_datasets', 'NY-msa-shapefiles')\n",
    "    target_county_fips = set(pd.read_csv(join(pwd, 'util_datasets', 'NY-msa-counties.csv'))['fips'].astype(str))\n",
    "    \n",
    "    dfs = []\n",
    "    for sh in os.listdir(shape_files):\n",
    "        df = gpd.read_file(join(shape_files, sh))\n",
    "        dfs.append(df[df['GEOID'].str[:5].isin(target_county_fips)][['GEOID', 'geometry']])\n",
    "        \n",
    "    tracts = gpd.GeoDataFrame(pd.concat(dfs, ignore_index=True))\n",
    "    \n",
    "    tracts['GEOID'] = tracts['GEOID'].astype(str).str[:-1]\n",
    "    tracts = tracts.dissolve(by='GEOID', as_index=False)\n",
    "        \n",
    "    poi_dir = join(pwd, dpath, 'area-pois', AREA_NAME)\n",
    "    dfs = []\n",
    "    for f in tqdm(os.listdir(poi_dir)):\n",
    "        df = pd.read_csv(join(poi_dir, f), usecols=['safegraph_place_id', 'top_category', 'latitude', 'longitude'])\n",
    "        gdf = gpd.GeoDataFrame(df, geometry=gpd.points_from_xy(df.longitude, df.latitude))\n",
    "        dfs.append(gpd.sjoin(gdf, tracts, how='inner', op='within'))\n",
    "        \n",
    "    df = pd.concat(dfs).drop_duplicates(subset=['safegraph_place_id'])\n",
    "    grouped = df.groupby('GEOID')\n",
    "    diversity = grouped.apply(lambda x: len(x['top_category'].unique()))\n",
    "    count = grouped.apply(lambda x: x['top_category'].shape[0])\n",
    "    \n",
    "    df = df.merge(diversity.rename('poi_diversity_where_store_is'), left_on='GEOID', right_index=True)\n",
    "    res = df.merge(count.rename('poi_count_where_store_is'), left_on='GEOID', right_index=True)\n",
    "    return res[['safegraph_place_id', 'poi_diversity_where_store_is', 'poi_count_where_store_is', 'GEOID']]"
   ]
  },
  {
   "cell_type": "code",
   "execution_count": 9,
   "metadata": {},
   "outputs": [],
   "source": [
    "def match_poi2cbg(poi_locs):\n",
    "    nyc_geojson = join(pwd, 'util_datasets', AREA_NAME, f'{AREA_NAME}-cbgs.json')\n",
    "    base_df = gpd.read_file(nyc_geojson)\n",
    "    base_df = base_df.to_crs('EPSG:4326')\n",
    "    base_df = base_df[base_df.BLKGRPCE != '0']\n",
    "    base_df = base_df[['GEOID', 'geometry']]\n",
    "    \n",
    "    gdf = gpd.GeoDataFrame(poi_locs.copy(), geometry=gpd.points_from_xy(poi_locs.longitude, poi_locs.latitude))\n",
    "    \n",
    "    return gpd.sjoin(gdf, base_df, how='inner', op='within')"
   ]
  },
  {
   "cell_type": "code",
   "execution_count": 10,
   "metadata": {},
   "outputs": [],
   "source": [
    "def get_nvisits(row, cbg_visits, keys):\n",
    "    poi = row['safegraph_place_id']\n",
    "    entries = json.loads(row['visitor_home_cbgs'])\n",
    "    for cbg in entries.keys():\n",
    "        ct = cbg[:-1]\n",
    "        if ct in keys:\n",
    "            cbg_visits.loc[ct, poi] += entries[cbg]"
   ]
  },
  {
   "cell_type": "code",
   "execution_count": 11,
   "metadata": {},
   "outputs": [],
   "source": [
    "def agg_visits_by_cbgs(distance_mat, pattern_files):\n",
    "    cbg_visits = pd.DataFrame(np.zeros(distance_mat.shape), index=distance_mat.index, columns=distance_mat.columns)\n",
    "    cbg_lookup = set(distance_mat.index)\n",
    "    poi_lookup = set(distance_mat.columns)\n",
    "    \n",
    "    for f in tqdm(pattern_files):\n",
    "        df = pd.read_csv(f)\n",
    "        df = df[df.safegraph_place_id.isin(poi_lookup)]\n",
    "        df.apply(get_nvisits, cbg_visits=cbg_visits, keys=cbg_lookup, axis=1)\n",
    "\n",
    "    return cbg_visits"
   ]
  },
  {
   "cell_type": "code",
   "execution_count": 12,
   "metadata": {},
   "outputs": [],
   "source": [
    "def get_spreader_cbgs(pct=0.75, fname='nyc_spreader_rank.csv'):\n",
    "    spreader_cbgs = pd.read_csv(join(pwd, util_datasets, fname))\n",
    "    return spreader_cbgs[spreader_cbgs['rank'] >= pct].cbg.astype(str).values\n",
    "\n",
    "def gen_rand_loc(c_lat, c_lng, r=1000, rand_seed=0):\n",
    "    # https://github.com/rmrs/random-location/blob/master/src/index.js\n",
    "    sin_lat = np.sin(np.radians(c_lat))\n",
    "    cos_lat = np.cos(np.radians(c_lat))\n",
    "    \n",
    "    np.random.seed(rand_seed)\n",
    "    bearing = np.random.rand() * np.pi * 2\n",
    "    sin_bearing = np.sin(bearing)\n",
    "    cos_bearing = np.cos(bearing)\n",
    "    \n",
    "    t = r / 6371000\n",
    "    sint = np.sin(t)\n",
    "    cost = np.cos(t)\n",
    "    \n",
    "    rlat = np.arcsin(sin_lat * cost + cos_lat * sint * cos_bearing)\n",
    "    rlng = np.radians(c_lng) + np.arctan2(sin_bearing * sint * cos_lat, cost - sin_lat * np.sin(rlat))\n",
    "    rlng = ((rlng + np.pi*3) % (np.pi*2)) - np.pi;\n",
    "    \n",
    "    to_deg = lambda rad: rad / (np.pi / 180)\n",
    "    \n",
    "    return [to_deg(rlat), to_deg(rlng)]"
   ]
  },
  {
   "cell_type": "code",
   "execution_count": 13,
   "metadata": {},
   "outputs": [],
   "source": [
    "def comp_dist_matrix(cbg_locs, poi_locs, betas=None):\n",
    "    dist_matrix = pd.DataFrame(haversine_distances(np.radians(cbg_locs), np.radians(poi_locs)) * 6371, index=cbg_locs.index, columns=poi_locs.index)\n",
    "    \n",
    "    if isinstance(betas, set):\n",
    "        for cbg, beta in betas.items():\n",
    "            dist_matrix.loc[cbg] *= beta\n",
    "\n",
    "    return dist_matrix\n",
    "\n",
    "@lru_cache\n",
    "def get_cbg_visits(dist_mat, start_date, end_date):\n",
    "    pattern_dir = join(pwd, dpath, 'filtered-patterns-msa', 'NYC-patterns')\n",
    "    date_format = '%Y-%m-%d'\n",
    "    pattern_files = [(datetime.strptime(f.split('.')[0], date_format), join(pattern_dir, f)) for f in os.listdir(pattern_dir)]\n",
    "\n",
    "    patterns = []\n",
    "    for dt, f in pattern_files:\n",
    "        if dt >= start_date and dt <= end_date:\n",
    "            patterns.append(f)\n",
    "\n",
    "    return agg_visits_by_cbgs(dist_mat, patterns)"
   ]
  },
  {
   "cell_type": "code",
   "execution_count": 14,
   "metadata": {},
   "outputs": [],
   "source": [
    "def scale_range(values, new_min=1, new_max=10):\n",
    "    old_min = np.min(values)\n",
    "    old_max = np.max(values)\n",
    "    \n",
    "    old_range = (old_max - old_min)\n",
    "    new_range = (new_max - new_min)\n",
    "    return (((values - old_min) * new_range) / old_range) + new_min\n",
    "\n",
    "def huff_corr(cbg_table, exp_distance, exp_area, get_corr=False):\n",
    "    numerator = (cbg_table['area_square_feet']**exp_area)\n",
    "    cbg_table['sim_nvisits'] = numerator / (cbg_table['distance']**exp_distance)\n",
    "    \n",
    "    if cbg_table['sim_nvisits'].sum() != 0:\n",
    "        cbg_table['sim_nvisits'] /= cbg_table['sim_nvisits'].sum()\n",
    "\n",
    "    cbg_table = cbg_table[~cbg_table['sim_nvisits'].isin([np.nan, np.inf, -np.inf])]\n",
    "    \n",
    "    corr_res = stats.pearsonr(cbg_table['nvisits'] / cbg_table['nvisits'].sum(), cbg_table['sim_nvisits'])\n",
    "    \n",
    "    if get_corr:\n",
    "        return corr_res\n",
    "    \n",
    "    return 1 - corr_res[0]\n",
    "\n",
    "def obj_func(X, cbg_table):\n",
    "    n_particles = X.shape[0]\n",
    "    cost = [huff_corr(cbg_table, *X[i]) for i in range(n_particles)]\n",
    "    return np.array(cost)\n",
    "\n",
    "def pso_huff_params(cbg_table, \n",
    "                    n_particles=20,\n",
    "                    bounds=(np.array([1, 1]), np.array([100, 100])), \n",
    "                    options={'c1': 1.5, 'c2': 1.5, 'w': 0.9}, \n",
    "                    iters=20, \n",
    "                    n_processes=None, \n",
    "                    verbose=False):\n",
    "    \n",
    "    optimizer = GlobalBestPSO(n_particles=n_particles, \n",
    "                              dimensions=cbg_table.shape[1] - 1, \n",
    "                              options=options, \n",
    "                              bounds=bounds)\n",
    "    \n",
    "    cost, joint_vars = optimizer.optimize(obj_func, \n",
    "                                          iters=iters, \n",
    "                                          cbg_table=cbg_table, \n",
    "                                          verbose=verbose, \n",
    "                                          n_processes=n_processes)\n",
    "    return cost, joint_vars"
   ]
  },
  {
   "cell_type": "code",
   "execution_count": 15,
   "metadata": {},
   "outputs": [],
   "source": [
    "#boroughs = list(nyc_borough2fips.keys())\n",
    "boroughs = ['Staten Island']\n",
    "poi_cat = 'Grocery Stores'\n",
    "# pause program begins\n",
    "start_date = datetime(2020, 3, 22)\n",
    "# phase 1 reopening\n",
    "end_date = datetime(2020, 6, 8)\n",
    "\n",
    "# poi locations and areas for the given category\n",
    "poi_locs, poi_areas = get_poi_attrs(poi_cat=poi_cat)\n",
    "# matching between pois and their home cbgs\n",
    "poi_cbg_ids = match_poi2cbg(poi_locs)"
   ]
  },
  {
   "cell_type": "code",
   "execution_count": 16,
   "metadata": {},
   "outputs": [
    {
     "name": "stderr",
     "output_type": "stream",
     "text": [
      "2022-09-29 22:31:44,787 - numexpr.utils - INFO - Note: NumExpr detected 16 cores but \"NUMEXPR_MAX_THREADS\" not set, so enforcing safe limit of 8.\n",
      "2022-09-29 22:31:44,792 - numexpr.utils - INFO - NumExpr defaulting to 8 threads.\n"
     ]
    }
   ],
   "source": [
    "# cbg device counts obtained from safegraph to be used as cbg populations\n",
    "device_count = pd.read_csv(join(pwd, util_datasets, 'ny-msa-device-counts.csv'))\n",
    "# discard time zones\n",
    "device_count.date_range_start = device_count.date_range_start.apply(lambda x: x.split('T')[0])\n",
    "device_count.date_range_start = pd.to_datetime(device_count.date_range_start, errors='raise')\n",
    "# filter wrt start and end dates\n",
    "device_count = device_count[(device_count.date_range_start >= start_date) & (device_count.date_range_start <= end_date)]\n",
    "# get census tracts\n",
    "device_count['census_tract'] = device_count.census_block_group // 10"
   ]
  },
  {
   "cell_type": "code",
   "execution_count": 14,
   "metadata": {},
   "outputs": [
    {
     "name": "stderr",
     "output_type": "stream",
     "text": [
      "100%|██████████████████████████████████████████████████████████████████████████████████| 12/12 [00:11<00:00,  1.08it/s]\n",
      "100%|████████████████████████████████████████████████████████████████████████████████| 109/109 [56:56<00:00, 31.35s/it]\n"
     ]
    },
    {
     "data": {
      "image/png": "[encoded data removed]",
      "text/plain": [
       "<Figure size 720x360 with 2 Axes>"
      ]
     },
     "metadata": {
      "needs_background": "light"
     },
     "output_type": "display_data"
    }
   ],
   "source": [
    "# simulation settings\n",
    "n_particles=20\n",
    "iters=500\n",
    "n_processes=None\n",
    "bounds_list=[(np.array([1, 1]), np.array([5, 5])), \n",
    "             (np.array([1, 1]), np.array([10, 10])), \n",
    "             (np.array([1, 1]), np.array([50, 50])), \n",
    "             (np.array([1, 1]), np.array([100, 100]))]\n",
    "\n",
    "for bounds in bounds_list:\n",
    "    for borough in boroughs:            \n",
    "        experiment_file = f'{borough}-{poi_cat}-{n_particles}-{iters}-{str(bounds)}-NO-SCALING'\n",
    "        \n",
    "        if os.path.exists(join(HUFF_MODEL_SAVE_DIR, experiment_file + '.csv')):\n",
    "            continue\n",
    "\n",
    "        selected_cbgs = str(nyc_borough2fips[borough])\n",
    "        # get source borough cbgs\n",
    "        cbg_locs = get_cbg_locs(selected_cbgs=selected_cbgs)\n",
    "        # calculate the distance matrix\n",
    "        dist_mat = comp_dist_matrix(cbg_locs, poi_locs)\n",
    "        # make it hashable\n",
    "        dist_mat = make_hashable_pandas_object(dist_mat)\n",
    "        # aggregate visits from cbgs to pois\n",
    "        poi_cbg_visits = get_cbg_visits(dist_mat, start_date, end_date)\n",
    "\n",
    "        # a list to store cbg pso results\n",
    "        cbg_exps = []\n",
    "        for cbg in tqdm(dist_mat.index):\n",
    "            visits = poi_cbg_visits.loc[cbg].rename('nvisits')\n",
    "\n",
    "            # discard cbgs with no visit observations\n",
    "            if visits.sum() == 0:\n",
    "                continue\n",
    "\n",
    "            dist = dist_mat.loc[cbg].rename('distance')\n",
    "\n",
    "            table = pd.concat([visits, dist, poi_areas], axis=1, join='inner')\n",
    "            features = table.columns.tolist()\n",
    "            features.remove('nvisits')\n",
    "\n",
    "#             for f in features:\n",
    "#                 table[f] = scale_range(table[f].values)\n",
    "\n",
    "            params = pso_huff_params(table, \n",
    "                                     n_particles=n_particles, \n",
    "                                     iters=iters, \n",
    "                                     n_processes=n_processes, \n",
    "                                     bounds=bounds)\n",
    "\n",
    "            corr = huff_corr(table, *params[1], get_corr=True)\n",
    "\n",
    "            cbg_exps.append({'census_tract': cbg,\n",
    "                             'exp_distance': params[1][0],\n",
    "                             'exp_area': params[1][1],\n",
    "                             'corr': corr[0], \n",
    "                             'p': corr[1]})\n",
    "\n",
    "        res = pd.DataFrame(cbg_exps)\n",
    "        res.to_csv(join(HUFF_MODEL_SAVE_DIR, experiment_file + '.csv'), index=False)\n",
    "\n",
    "        # plot model performance\n",
    "        fig, axes = plt.subplots(1, 2, figsize=(10, 5))\n",
    "\n",
    "        cax = axes[0]\n",
    "        cax.boxplot(res['corr'])\n",
    "        cax.set_ylim([0, 1])\n",
    "        cax.axhline(0.5, label='0.5 Corr Coeff.')\n",
    "        cax.set_xlabel('PSO Correlation Coeff.')\n",
    "        cax.legend()\n",
    "\n",
    "        pax = axes[1]\n",
    "        pax.hist(res['p'], bins='scott')\n",
    "        pax.set_title('Corr p-value')\n",
    "\n",
    "        fig.suptitle(experiment_file)\n",
    "    \n",
    "        fig.savefig(join(HUFF_MODEL_SAVE_DIR, experiment_file + '.png'), bbox_inches='tight')"
   ]
  },
  {
   "cell_type": "code",
   "execution_count": 29,
   "metadata": {},
   "outputs": [],
   "source": [
    "# fig, axes = plt.subplots(2, 3, figsize=(20, 10))\n",
    "# cols = ['exp_distance', 'exp_area', 'exp_poi_diversity', 'exp_poi_count', 'corr', 'p']\n",
    "# col2name = dict(zip(cols, ['Distance', 'Area', 'POI Diversity Where Store is', 'POI Count Where Store is', 'Spearman Corr', 'P value']))\n",
    "\n",
    "# for ax, col in zip(axes.flatten(), cols):\n",
    "#     sns.boxplot(x='borough', y=col, data=res, ax=ax)\n",
    "#     ax.set_title(col2name[col], fontsize=13)\n",
    "#     ax.set_xlabel(None)\n",
    "#     ax.set_ylabel(None)\n",
    "    \n",
    "# fig.suptitle('Resulting Huff Exponents For Each Borough (Model Evaluation wtih Spearman Corr and P values)', fontsize=20, y=.96)\n",
    "# fig.savefig(join(FIG_SAVE_DIR, 'huff-model-exps-detailed.png'), bbox_inches='tight')"
   ]
  },
  {
   "cell_type": "code",
   "execution_count": 17,
   "metadata": {},
   "outputs": [
    {
     "data": {
      "text/plain": [
       "borough\n",
       "Bronx            0.435447\n",
       "Brooklyn         0.470086\n",
       "Manhattan        0.582928\n",
       "Queens           0.414111\n",
       "Staten Island    0.332543\n",
       "dtype: float64"
      ]
     },
     "execution_count": 17,
     "metadata": {},
     "output_type": "execute_result"
    }
   ],
   "source": [
    "# calculate poi per capita\n",
    "# borough populations: https://data.cityofnewyork.us/City-Government/New-York-City-Population-by-Borough-1950-2040/xywu-7bv9\n",
    "borough_population = {'Bronx': 1446788, 'Brooklyn': 2648452, 'Manhattan': 1638281, 'Queens': 2330295, 'Staten Island': 487155}\n",
    "poi_cbg_ids['borough'] = poi_cbg_ids.GEOID.str[:5].apply(lambda x: nyc_fips2borough[int(x)])\n",
    "poi_counts_by_borough = poi_cbg_ids.groupby('borough').size()\n",
    "poi_per_capita_by_borough = poi_counts_by_borough / pd.Series(borough_population)\n",
    "# per 1K residents\n",
    "poi_per_capita_by_borough * 10**3"
   ]
  },
  {
   "cell_type": "code",
   "execution_count": 16,
   "metadata": {},
   "outputs": [
    {
     "name": "stdout",
     "output_type": "stream",
     "text": [
      "Staten Island Median Distance Traveled (in km):  2.66\n"
     ]
    },
    {
     "name": "stderr",
     "output_type": "stream",
     "text": [
      "100%|██████████████████████████████████████████████████████████████████████████████████| 12/12 [00:08<00:00,  1.36it/s]\n"
     ]
    },
    {
     "name": "stdout",
     "output_type": "stream",
     "text": [
      "Manhattan Median Distance Traveled (in km):  0.90\n"
     ]
    },
    {
     "name": "stderr",
     "output_type": "stream",
     "text": [
      "100%|██████████████████████████████████████████████████████████████████████████████████| 12/12 [00:12<00:00,  1.05s/it]\n"
     ]
    },
    {
     "name": "stdout",
     "output_type": "stream",
     "text": [
      "Bronx Median Distance Traveled (in km):  1.26\n"
     ]
    },
    {
     "name": "stderr",
     "output_type": "stream",
     "text": [
      "100%|██████████████████████████████████████████████████████████████████████████████████| 12/12 [00:15<00:00,  1.30s/it]\n"
     ]
    },
    {
     "name": "stdout",
     "output_type": "stream",
     "text": [
      "Queens Median Distance Traveled (in km):  1.71\n"
     ]
    },
    {
     "name": "stderr",
     "output_type": "stream",
     "text": [
      "100%|██████████████████████████████████████████████████████████████████████████████████| 12/12 [00:15<00:00,  1.32s/it]\n"
     ]
    },
    {
     "name": "stdout",
     "output_type": "stream",
     "text": [
      "Brooklyn Median Distance Traveled (in km):  1.35\n"
     ]
    }
   ],
   "source": [
    "# median distance traveled\n",
    "def median_dist_by_borough(dist_mat, cbg_visits):\n",
    "    d = []\n",
    "    for cbg in dist_mat.index:\n",
    "        visits = cbg_visits.loc[cbg]\n",
    "        visits = visits[visits > 0]\n",
    "        dist = dist_mat.loc[cbg, visits.index]\n",
    "        visit_w_dists = dist.repeat(np.ceil(visits).astype(int).values)\n",
    "        d.extend(visit_w_dists)\n",
    "    return np.nanmedian(d)\n",
    "\n",
    "for borough, fips in nyc_borough2fips.items():\n",
    "    selected_cbgs = str(nyc_borough2fips[borough])\n",
    "    sel_cbg_locs = get_cbg_locs(selected_cbgs=selected_cbgs)\n",
    "    \n",
    "    d_mat = comp_dist_matrix(sel_cbg_locs, poi_locs)\n",
    "    d_mat = make_hashable_pandas_object(d_mat)\n",
    "    poi_cbg_visits = get_cbg_visits(d_mat, start_date, end_date)\n",
    "    \n",
    "    print(borough, 'Median Distance Traveled (in km): ', '%.2f' % median_dist_by_borough(d_mat, poi_cbg_visits))"
   ]
  },
  {
   "cell_type": "code",
   "execution_count": 18,
   "metadata": {},
   "outputs": [],
   "source": [
    "def simulate_matching_poi_per_capita(source_borough, \n",
    "                                     target_borough,\n",
    "                                     model_param_file,\n",
    "                                     ct_populations,\n",
    "                                     poi_cat, \n",
    "                                     poi_per_capita_by_borough, \n",
    "                                     borough_population, \n",
    "                                     poi_counts_by_borough, \n",
    "                                     poi_locs, \n",
    "                                     poi_areas, \n",
    "                                     area_expansion,\n",
    "                                     start_date, \n",
    "                                     end_date, \n",
    "                                     pois_in_spreader_cbgs, \n",
    "                                     non_source_borough_poi, \n",
    "                                     r=1000, \n",
    "                                     rand_seed=0,\n",
    "                                     verbose=True):\n",
    "    # given a pair of source and target boroughs, adjust the # of pois in source borough \n",
    "    # so that the poi per capita will be the same as target borough\n",
    "    if isinstance(target_borough, str):\n",
    "        new_num_pois = poi_per_capita_by_borough[target_borough] * borough_population[source_borough]\n",
    "    else: # it's directly a poi density\n",
    "        new_num_pois = target_borough * borough_population[source_borough]\n",
    "    num_pois = poi_counts_by_borough[source_borough]\n",
    "    ndiff = int(new_num_pois - num_pois)\n",
    "    \n",
    "    if ndiff < 0:\n",
    "        print('can not add hypothetical POIs to the given source borough')\n",
    "    else:\n",
    "        params_df = pd.read_csv(model_param_file)\n",
    "        params_df.cbg = params_df.census_tract.astype(str)\n",
    "        params_df = params_df.set_index('census_tract')\n",
    "            \n",
    "        selected_cbgs = str(nyc_borough2fips[source_borough])\n",
    "        cbg_locs = get_cbg_locs(selected_cbgs=selected_cbgs)\n",
    "        \n",
    "        poi_locs = poi_locs.drop('sg:1324350d09df44c7a1df7e3e1b984850')\n",
    "        poi_areas = poi_areas.drop('sg:1324350d09df44c7a1df7e3e1b984850')\n",
    "        \n",
    "        rand_gen_poi_locs = []\n",
    "        np.random.seed(rand_seed)\n",
    "        for cbg in np.random.choice(cbg_locs.index, size=ndiff, replace=True):\n",
    "            entry = cbg_locs.loc[cbg]\n",
    "            rand_gen_poi_locs.append(gen_rand_loc(entry['centroid_lat'], entry['centroid_lon'], r, rand_seed=rand_seed))\n",
    "\n",
    "        rand_gen_poi_locs = pd.DataFrame(rand_gen_poi_locs, columns=poi_locs.columns)\n",
    "        sim_poi_locs = pd.concat([poi_locs, rand_gen_poi_locs])\n",
    "        \n",
    "        # get mean poi area in source borough\n",
    "        mean_poi_area = poi_areas.loc[poi_cbg_ids[poi_cbg_ids.borough == source_borough].index].area_square_feet.mean()\n",
    "        sim_poi_areas = pd.concat([poi_areas.area_square_feet, \n",
    "                                   pd.Series(mean_poi_area * (1+area_expansion)) \\\n",
    "                                       .repeat(len(rand_gen_poi_locs)) \\\n",
    "                                       .reset_index(drop=True) \\\n",
    "                                       .rename('safegraph_place_id')\n",
    "                                  ])\n",
    "        \n",
    "        def comp_huff_mat(poi_locs, areas):\n",
    "            dist_mat = comp_dist_matrix(cbg_locs, poi_locs)\n",
    "            for cbg in dist_mat.index:\n",
    "                exp_dist = params_df.loc[cbg, 'exp_distance'] if cbg in params_df.index else params_df['exp_distance'].mean()\n",
    "                dist_mat.loc[cbg] = dist_mat.loc[cbg] ** -exp_dist\n",
    "                \n",
    "                exp_area = areas.loc[dist_mat.columns] ** (params_df.loc[cbg, 'exp_area'] if cbg in params_df.index else params_df['exp_area'].mean())\n",
    "                dist_mat.loc[cbg] = dist_mat.loc[cbg] * exp_area\n",
    "                \n",
    "                dist_mat.loc[cbg] /= dist_mat.loc[cbg].sum()\n",
    "                \n",
    "            return dist_mat\n",
    "\n",
    "        # simulated huff matrix with hypothetical pois\n",
    "        sim_huff_mat = comp_huff_mat(sim_poi_locs, sim_poi_areas)\n",
    "        \n",
    "        # calculate another huff matrix with actual pois and obtain visits\n",
    "        area_series = poi_areas.area_square_feet\n",
    "        act_huff_mat = comp_huff_mat(poi_locs, area_series)\n",
    "        act_huff_mat = make_hashable_pandas_object(act_huff_mat)\n",
    "\n",
    "        # pois visits - matrix of cbgs X pois\n",
    "        poi_cbg_visits = get_cbg_visits(act_huff_mat, start_date, end_date)\n",
    "        # aggregate visits by cbgs - a column vec of cbgs X 1\n",
    "        act_visits = poi_cbg_visits.sum(axis=1)\n",
    "        # distribute visits on huff probabilities\n",
    "        huff_visits = act_huff_mat.mul(act_visits, axis=0)\n",
    "        # and get huff cbg visits\n",
    "        visits = huff_visits.sum(axis=1)\n",
    "        \n",
    "        # get simulated huff visists\n",
    "        sim_visits = sim_huff_mat.mul(visits, axis=0).sum(axis=0)\n",
    "        \n",
    "        dist_matrix = comp_dist_matrix(cbg_locs, poi_locs)\n",
    "        def population_weighted_distance(visits, population):\n",
    "            dists = []\n",
    "            for cbg in dist_matrix.index:\n",
    "                visits = poi_cbg_visits.loc[cbg]\n",
    "                visits = visits[visits > 0]\n",
    "                d = dist_matrix.loc[cbg, visits.index]\n",
    "                dists.extend(list(np.repeat(d, population.loc[cbg])))\n",
    "            return np.nanmedian(dists)\n",
    "        \n",
    "        # aggregate all the visits from CBGs for POIs\n",
    "        #act_visits = poi_cbg_visits.loc[:, (poi_cbg_visits != 0).any(axis=0)].sum(axis=0)\n",
    "        \n",
    "        # and get the pct diff for each POI\n",
    "        #diff = (sim_visits.loc[act_visits.index] - act_visits) / act_visits\n",
    "        \n",
    "        real_poi_visits = huff_visits.sum(axis=0)\n",
    "        total_visits_spreader_cbgs = real_poi_visits.loc[pois_in_spreader_cbgs].sum()\n",
    "        diff = (sim_visits.loc[pois_in_spreader_cbgs].sum() - total_visits_spreader_cbgs) / total_visits_spreader_cbgs\n",
    "        \n",
    "#         if verbose:\n",
    "#             print('expansion_factor:', area_expansion)\n",
    "#             # change in median distance\n",
    "#             sim_median_dist = population_weighted_distance(sim_visits, ct_populations)\n",
    "#             act_median_dist = population_weighted_distance(act_visits, ct_populations)\n",
    "#             print('Change in population weighted median distance in km', (sim_median_dist - act_median_dist)/ act_median_dist)\n",
    "        \n",
    "        # now filter the diffs wrt their CBG locations (hotspot etc.)\n",
    "        # and aggregate the diffs\n",
    "#         change_res = diff[diff.index.isin(pois_in_spreader_cbgs)].mean()\n",
    "#         if verbose:\n",
    "#             print(f'Change in visits for spreader CBGs {change_res}')\n",
    "\n",
    "#             # change in visits to none-home borough CBGs\n",
    "#             print(f'Change in visits to non-{source_borough} CBGs: {diff[diff.index.isin(non_source_borough_poi)].mean()}')\n",
    "#             print()\n",
    "        \n",
    "        if verbose:\n",
    "            print(diff)\n",
    "            \n",
    "        return diff, ndiff"
   ]
  },
  {
   "cell_type": "code",
   "execution_count": 19,
   "metadata": {},
   "outputs": [],
   "source": [
    "# find the experiment setting with the highest median correlation coeff\n",
    "corr_lst = []\n",
    "for f in os.listdir(HUFF_MODEL_SAVE_DIR):\n",
    "    if f.endswith('csv'):\n",
    "        corr_lst.append([f, pd.read_csv(join(HUFF_MODEL_SAVE_DIR, f))['corr'].median()])\n",
    "\n",
    "model_params = max(corr_lst, key=lambda x: x[1])[0]"
   ]
  },
  {
   "cell_type": "code",
   "execution_count": 16,
   "metadata": {},
   "outputs": [
    {
     "data": {
      "image/png": "[encoded data removed]",
      "text/plain": [
       "<Figure size 360x360 with 1 Axes>"
      ]
     },
     "metadata": {
      "needs_background": "light"
     },
     "output_type": "display_data"
    }
   ],
   "source": [
    "df = pd.read_csv(join(HUFF_MODEL_SAVE_DIR, model_params))\n",
    "\n",
    "fig, ax = plt.subplots(figsize=(5, 5))\n",
    "ax.boxplot(df['corr'])\n",
    "ax.set_xticklabels(['Census Tract Level\\nCorrelation Coefficients'], fontsize=14)\n",
    "ax.tick_params(labelsize=14)\n",
    "#ax.axhline(0.5, c='r', linestyle='--', linewidth=1, label='0.5 ')\n",
    "ax.grid(axis='y', alpha=0.5)\n",
    "ax.set_title('Huff Model Performance with PSO', fontsize=18, y=1.05)\n",
    "ax.set_ylabel('Pearson Corr.')\n",
    "\n",
    "fig.savefig(join(FIG_SAVE_DIR, 'huff-performance.pdf'), bbox_inches='tight')\n",
    "#fig.savefig(join(FIG_SAVE_DIR, 'huff-performance.png'), bbox_inches='tight')"
   ]
  },
  {
   "cell_type": "code",
   "execution_count": 19,
   "metadata": {},
   "outputs": [
    {
     "name": "stdout",
     "output_type": "stream",
     "text": [
      "Manhattan\n"
     ]
    },
    {
     "name": "stderr",
     "output_type": "stream",
     "text": [
      "100%|██████████████████████████████████████████████████████████████████████████████████| 12/12 [00:09<00:00,  1.33it/s]\n"
     ]
    },
    {
     "name": "stdout",
     "output_type": "stream",
     "text": [
      "-0.4690496127264156\n",
      "-0.4707536557686107\n",
      "-0.4724130213801902\n",
      "-0.4740148372486966\n",
      "-0.4755520280724339\n",
      "-0.4770225044483499\n",
      "-0.4784280978688913\n",
      "-0.4797734569049444\n",
      "-0.48106504084567064\n",
      "-0.48231027934014087\n",
      "-0.4835169179546088\n",
      "-0.48469253986340155\n",
      "-0.48584423907982915\n",
      "-0.48697841579731993\n",
      "-0.48810066534148755\n",
      "-0.48921573592125434\n",
      "-0.4903275349348601\n",
      "-0.4914391680155004\n",
      "-0.49255299883595066\n",
      "-0.493670720804796\n",
      "\n",
      "Queens\n",
      "-0.23142504058530852\n",
      "-0.23249424245449896\n",
      "-0.2335421834559953\n",
      "-0.2345696299962385\n",
      "-0.2355757191231906\n",
      "-0.2365585816565722\n",
      "-0.2375159217389987\n",
      "-0.23844548155390577\n",
      "-0.23934536574900722\n",
      "-0.2402142305494882\n",
      "-0.24105135980961823\n",
      "-0.24185665727434746\n",
      "-0.24263058427882142\n",
      "-0.24337406793849523\n",
      "-0.24408839893108433\n",
      "-0.24477513187779593\n",
      "-0.24543599604289693\n",
      "-0.24607281999261105\n",
      "-0.24668747102628977\n",
      "-0.247281808450613\n",
      "\n"
     ]
    }
   ],
   "source": [
    "source_borough = 'Staten Island'\n",
    "target_boroughs = ['Manhattan', 'Queens']\n",
    "poi_cat = 'Grocery Stores'\n",
    "\n",
    "rand_loc_seed = 0\n",
    "# get borough population\n",
    "ct = device_count[device_count['census_tract'].astype(str).str[:5] == str(nyc_borough2fips[source_borough])]\n",
    "# find the max device count within the time range\n",
    "ct_pops = ct.groupby('census_tract').number_devices_residing.max()\n",
    "ct_pops.index = ct_pops.index.astype(str)\n",
    "\n",
    "model_param_file = join(HUFF_MODEL_SAVE_DIR,  model_params)\n",
    "\n",
    "# area expansion factor for hypothetical pois\n",
    "area_expansion_lst = np.linspace(0, 1, 20)\n",
    "\n",
    "# spreader cbgs ordered by occurrence rank\n",
    "spreader_cbgs = set(get_spreader_cbgs(pct=0.75, fname='nyc_case_rank.csv'))\n",
    "# find the pois in those cbgs\n",
    "pois_in_spreader_cbgs = poi_cbg_ids[poi_cbg_ids.GEOID.isin(spreader_cbgs)].index \n",
    "# cbgs located in other boroughs\n",
    "non_source_borough_poi = poi_cbg_ids[poi_cbg_ids.borough != source_borough].index\n",
    "\n",
    "change_df = {}\n",
    "for target_borough in target_boroughs:\n",
    "    print(target_borough)\n",
    "    change_in_spreader_visits = []\n",
    "    for area_expansion in area_expansion_lst:\n",
    "        chg, diff = simulate_matching_poi_per_capita(source_borough, target_borough, model_param_file, ct_pops, poi_cat, poi_per_capita_by_borough, \n",
    "                                               borough_population, poi_counts_by_borough, poi_locs, poi_areas, area_expansion,\n",
    "                                               start_date, end_date, pois_in_spreader_cbgs, non_source_borough_poi, r=1000, rand_seed=rand_loc_seed)\n",
    "        change_in_spreader_visits.append(chg)\n",
    "    change_df[target_borough] = {'values': change_in_spreader_visits, 'diff': diff}\n",
    "    print()"
   ]
  },
  {
   "cell_type": "code",
   "execution_count": 24,
   "metadata": {},
   "outputs": [
    {
     "data": {
      "image/png": "[encoded data removed]",
      "text/plain": [
       "<Figure size 504x360 with 1 Axes>"
      ]
     },
     "metadata": {
      "needs_background": "light"
     },
     "output_type": "display_data"
    }
   ],
   "source": [
    "fig, ax = plt.subplots(figsize=(7, 5))\n",
    "\n",
    "for borough, entry in change_df.items():\n",
    "    ax.plot(area_expansion_lst, entry['values'], marker='o', label=f'{borough} ({entry[\"diff\"]} new POIs)')\n",
    "ax.set_ylabel('Change in Visits\\nto Hotspot CBGs', fontsize=12, rotation=0, labelpad=60)\n",
    "ax.set_xticks(area_expansion_lst[1::2])\n",
    "ax.set_xticklabels([f'{t:.1f}' for t in area_expansion_lst[1::2]])\n",
    "ax.yaxis.set_major_formatter(ticker.FuncFormatter(lambda y, _: f'{y*100:.0f}%'))\n",
    "ax.set_xlabel('Store Area Expansion Factor', fontsize=12)\n",
    "ax.grid(alpha=0.3)\n",
    "ax.set_title(f'Expanding Hypothetical Store Areas', fontsize=15, y=1.05)\n",
    "ax.legend(title='Grocery Density of', bbox_to_anchor=(1, 1), edgecolor='white')\n",
    "\n",
    "fig.savefig(join(FIG_SAVE_DIR, f'diff-store-area.pdf'), bbox_inches='tight')\n",
    "#fig.savefig(join(FIG_SAVE_DIR, f'diff-store-area-CASES.pdf'), bbox_inches='tight')"
   ]
  },
  {
   "cell_type": "code",
   "execution_count": 21,
   "metadata": {},
   "outputs": [
    {
     "name": "stderr",
     "output_type": "stream",
     "text": [
      "  0%|                                                                                           | 0/16 [00:00<?, ?it/s]\n",
      "  0%|                                                                                           | 0/12 [00:00<?, ?it/s]\u001b[A\n",
      "  8%|██████▉                                                                            | 1/12 [00:00<00:07,  1.39it/s]\u001b[A\n",
      " 17%|█████████████▊                                                                     | 2/12 [00:01<00:07,  1.38it/s]\u001b[A\n",
      " 25%|████████████████████▊                                                              | 3/12 [00:02<00:06,  1.44it/s]\u001b[A\n",
      " 33%|███████████████████████████▋                                                       | 4/12 [00:02<00:05,  1.46it/s]\u001b[A\n",
      " 42%|██████████████████████████████████▌                                                | 5/12 [00:03<00:04,  1.46it/s]\u001b[A\n",
      " 50%|█████████████████████████████████████████▌                                         | 6/12 [00:04<00:04,  1.40it/s]\u001b[A\n",
      " 58%|████████████████████████████████████████████████▍                                  | 7/12 [00:04<00:03,  1.38it/s]\u001b[A\n",
      " 67%|███████████████████████████████████████████████████████▎                           | 8/12 [00:05<00:02,  1.35it/s]\u001b[A\n",
      " 75%|██████████████████████████████████████████████████████████████▎                    | 9/12 [00:06<00:02,  1.34it/s]\u001b[A\n",
      " 83%|████████████████████████████████████████████████████████████████████▎             | 10/12 [00:07<00:01,  1.30it/s]\u001b[A\n",
      " 92%|███████████████████████████████████████████████████████████████████████████▏      | 11/12 [00:08<00:00,  1.26it/s]\u001b[A\n",
      "100%|██████████████████████████████████████████████████████████████████████████████████| 12/12 [00:09<00:00,  1.32it/s]\u001b[A\n",
      "100%|██████████████████████████████████████████████████████████████████████████████████| 16/16 [24:36<00:00, 92.26s/it]\n",
      "100%|██████████████████████████████████████████████████████████████████████████████████| 16/16 [24:15<00:00, 90.96s/it]\n",
      "100%|██████████████████████████████████████████████████████████████████████████████████| 16/16 [23:56<00:00, 89.78s/it]\n"
     ]
    }
   ],
   "source": [
    "source_borough = 'Staten Island'\n",
    "hypo_poi_counts = np.arange(0, 301, 20)\n",
    "\n",
    "poi_densities = (hypo_poi_counts + poi_counts_by_borough[source_borough]) / borough_population[source_borough]\n",
    "\n",
    "#base_poi_den = poi_per_capita_by_borough[source_borough]\n",
    "#poi_densities = np.linspace(base_poi_den, base_poi_den*2, 20)\n",
    "\n",
    "area_expansion_lst = [0, 0.5, 1]\n",
    "\n",
    "area_expansion = 0\n",
    "n_iter = 30\n",
    "area_exp_result = []\n",
    "for area_expansion in area_expansion_lst:\n",
    "    sample_vals = []\n",
    "    for poi_density in tqdm(poi_densities):\n",
    "        change_in_visits = []\n",
    "        for it in range(n_iter):\n",
    "            rand_loc_seed = np.random.randint(0, 1000)\n",
    "            chg, diff = simulate_matching_poi_per_capita(source_borough, poi_density, model_param_file, ct_pops, poi_cat, poi_per_capita_by_borough, \n",
    "                                                       borough_population, poi_counts_by_borough, poi_locs, poi_areas, area_expansion,\n",
    "                                                       start_date, end_date, pois_in_spreader_cbgs, non_source_borough_poi, r=1000, rand_seed=rand_loc_seed, verbose=False)\n",
    "            change_in_visits.append(chg)\n",
    "        sample_vals.append(change_in_visits)\n",
    "    area_exp_result.append(sample_vals)"
   ]
  },
  {
   "cell_type": "code",
   "execution_count": 22,
   "metadata": {},
   "outputs": [],
   "source": [
    "def temporal_bt(sample_vals):\n",
    "    mean_vals = []\n",
    "    low = []\n",
    "    high = []\n",
    "    for values in sample_vals:\n",
    "        mean_vals.append(np.mean(values))\n",
    "        l, h = bootstrap_ci(values, stat=np.mean, ci_level=95, repetition=10**3)\n",
    "        low.append(l)\n",
    "        high.append(h)\n",
    "        \n",
    "    return np.array(mean_vals), np.array(low), np.array(high)"
   ]
  },
  {
   "cell_type": "code",
   "execution_count": 33,
   "metadata": {},
   "outputs": [
    {
     "data": {
      "image/png": "[encoded data removed]",
      "text/plain": [
       "<Figure size 504x360 with 1 Axes>"
      ]
     },
     "metadata": {
      "needs_background": "light"
     },
     "output_type": "display_data"
    }
   ],
   "source": [
    "from matplotlib.ticker import AutoMinorLocator\n",
    "\n",
    "fig, ax = plt.subplots(figsize=(7, 5))\n",
    "\n",
    "for exp, area_exp_values in zip(area_expansion_lst[:1], area_exp_result[:1]):\n",
    "    mean_vals, low, high = temporal_bt(area_exp_values)\n",
    "    ax.plot(hypo_poi_counts, mean_vals, marker='o', c='#636363')\n",
    "    ax.errorbar(hypo_poi_counts, mean_vals, [mean_vals - low, high - mean_vals], \n",
    "                fmt='o', label='95% Confidence Interval', capsize=3, color='#636363')#, markerfacecolor='#636363', markeredgecolor='#636363')\n",
    "    \n",
    "ax.set_ylabel('Change in Visits\\nto Hotspot CBGs', fontsize=12, rotation=90, labelpad=10)\n",
    "ax.yaxis.set_major_formatter(ticker.FuncFormatter(lambda y, _: f'{y*100:.0f}%'))\n",
    "\n",
    "#ticks = np.array(poi_densities)[[0, 10, -1]]\n",
    "#ax.set_xticks(ticks)\n",
    "#ax.set_xticklabels([f'x{t/ticks[0]:.1f}' if ind != 0 else f'Original\\nGrocery Store Density' for ind, t in enumerate(ticks)])\n",
    "ax.set_xlabel('Number of Hypothetically added Grocery Stores', fontsize=12)\n",
    "#ax.xaxis.set_minor_locator(AutoMinorLocator())\n",
    "ax.set_title('Increasing Hypothetical Grocery Store Densities', fontsize=15, y=1.03)\n",
    "ax.grid(alpha=0.3, which='both')\n",
    "ax.legend()\n",
    "\n",
    "fig.savefig(join(FIG_SAVE_DIR, 'poi-density.pdf'), bbox_inches='tight', dpi=150)"
   ]
  },
  {
   "cell_type": "code",
   "execution_count": null,
   "metadata": {},
   "outputs": [],
   "source": []
  }
 ],
 "metadata": {
  "kernelspec": {
   "display_name": "sg_mob",
   "language": "python",
   "name": "sg_mob"
  },
  "language_info": {
   "codemirror_mode": {
    "name": "ipython",
    "version": 3
   },
   "file_extension": ".py",
   "mimetype": "text/x-python",
   "name": "python",
   "nbconvert_exporter": "python",
   "pygments_lexer": "ipython3",
   "version": "3.8.6"
  }
 },
 "nbformat": 4,
 "nbformat_minor": 4
}
