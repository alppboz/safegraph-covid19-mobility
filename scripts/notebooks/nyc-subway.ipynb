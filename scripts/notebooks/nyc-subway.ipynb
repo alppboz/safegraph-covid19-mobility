{
 "cells": [
  {
   "cell_type": "code",
   "execution_count": 30,
   "metadata": {},
   "outputs": [],
   "source": [
    "import pandas as pd\n",
    "import numpy as np\n",
    "import matplotlib.pyplot as plt\n",
    "import pyreadr\n",
    "import yaml\n",
    "from os.path import join\n",
    "from datetime import datetime\n",
    "import json\n",
    "import geopandas as gpd\n",
    "\n",
    "%matplotlib inline"
   ]
  },
  {
   "cell_type": "code",
   "execution_count": 31,
   "metadata": {},
   "outputs": [],
   "source": [
    "with open(join('..', '..', 'config.yml')) as f:\n",
    "    config = yaml.safe_load(f)\n",
    "    \n",
    "pwd = config['pwd']\n",
    "dpath = config['storage']"
   ]
  },
  {
   "cell_type": "code",
   "execution_count": 46,
   "metadata": {},
   "outputs": [],
   "source": [
    "df = pd.read_csv(join(pwd, 'util_datasets', 'nyc-subway-ridership.csv'))\n",
    "df.date = pd.to_datetime(df.date)\n",
    "df = gpd.GeoDataFrame(df, geometry=gpd.points_from_xy(df.gtfs_longitude, df.gtfs_latitude))\n",
    "df.geometry = df.geometry.set_crs(\"EPSG:4326\")\n",
    "\n",
    "zcta_df = gpd.read_file(join(pwd, 'util_datasets', 'NYC', 'NYC-zcta.json'))"
   ]
  },
  {
   "cell_type": "code",
   "execution_count": 47,
   "metadata": {},
   "outputs": [],
   "source": [
    "merged = gpd.sjoin(df, zcta_df, how='left', op='within')"
   ]
  },
  {
   "cell_type": "code",
   "execution_count": 53,
   "metadata": {},
   "outputs": [],
   "source": [
    "merged.groupby(['zcta', 'date']).sum()[['entries', 'exits']].reset_index().to_csv(join(pwd, 'util_datasets', 'nyc-subway-ridership-grouped.csv'))"
   ]
  }
 ],
 "metadata": {
  "kernelspec": {
   "display_name": "sg_mob",
   "language": "python",
   "name": "sg_mob"
  },
  "language_info": {
   "codemirror_mode": {
    "name": "ipython",
    "version": 3
   },
   "file_extension": ".py",
   "mimetype": "text/x-python",
   "name": "python",
   "nbconvert_exporter": "python",
   "pygments_lexer": "ipython3",
   "version": "3.8.6"
  }
 },
 "nbformat": 4,
 "nbformat_minor": 4
}
