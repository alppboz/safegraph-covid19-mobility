{
 "cells": [
  {
   "cell_type": "code",
   "execution_count": 3,
   "metadata": {},
   "outputs": [],
   "source": [
    "import pandas as pd\n",
    "import numpy as np\n",
    "from tqdm import tqdm\n",
    "import igraph as ig\n",
    "import os\n",
    "import yaml\n",
    "from os.path import join\n",
    "import matplotlib.pyplot as plt\n",
    "from datetime import datetime, timedelta\n",
    "import matplotlib.dates as mdates\n",
    "import matplotlib.patches as mpatches\n",
    "from scipy.stats import entropy\n",
    "from scipy import stats\n",
    "from functools import reduce\n",
    "import sys\n",
    "sys.path.insert(1, '..')\n",
    "from utils import *\n",
    "from collections import Counter\n",
    "import geopandas as gpd\n",
    "import matplotlib.ticker as ticker\n",
    "import geopandas as gpd\n",
    "from scipy.spatial import distance\n",
    "import matplotlib.gridspec as gridspec\n",
    "from sklearn.neighbors import BallTree\n",
    "from math import radians\n",
    "from scipy.cluster import hierarchy\n",
    "from sklearn.metrics.pairwise import cosine_similarity\n",
    "\n",
    "import warnings\n",
    "warnings.filterwarnings(\"ignore\")\n",
    "\n",
    "%matplotlib inline"
   ]
  },
  {
   "cell_type": "code",
   "execution_count": 4,
   "metadata": {},
   "outputs": [],
   "source": [
    "FIG_SAVE_DIR = join('..', '..', 'figures')\n",
    "RESULT_SAVE_DIR = join('..', '..', 'results')"
   ]
  },
  {
   "cell_type": "code",
   "execution_count": 5,
   "metadata": {},
   "outputs": [],
   "source": [
    "with open(join('..', '..', 'config.yml')) as f:\n",
    "    config = yaml.safe_load(f)\n",
    "    \n",
    "pwd = config['pwd']\n",
    "dpath = config['storage']\n",
    "patterns = config['pattern-data-path']\n",
    "\n",
    "AREA_NAME = 'NYC'"
   ]
  },
  {
   "cell_type": "code",
   "execution_count": 6,
   "metadata": {},
   "outputs": [],
   "source": [
    "# work related columns\n",
    "survey_columns = [\n",
    "    'home_cms_zone', \n",
    "    #'essential',  # considered essential worker 1 -> yes, 2-> no, 995 -> nan, 998 -> dont know\n",
    "    'trip_purpose_work',  # work related trips based on days 0 -> have not traveled in the last week, 1-6\n",
    "    'job_type'  # current work location 1-> home/remote, 2-> hybrid (telework/office), 3-> single work location (office), 4-> multiple work location, 5-> drive/bike/travel for work, 995 -> nan\n",
    "]"
   ]
  },
  {
   "cell_type": "code",
   "execution_count": 7,
   "metadata": {},
   "outputs": [],
   "source": [
    "survey_path = join(pwd, 'util_datasets', AREA_NAME, 'mobility-surveys')\n",
    "dfs = [pd.read_csv(join(survey_path, f)) for f in os.listdir(survey_path)]"
   ]
  },
  {
   "cell_type": "code",
   "execution_count": 8,
   "metadata": {},
   "outputs": [],
   "source": [
    "def plot_job_types(df):\n",
    "    si = df[df.home_cms_zone == 'Staten Island']\n",
    "    non_si = df[df.home_cms_zone != 'Staten Island']\n",
    "    \n",
    "    fig, axes = plt.subplots(1, 2, figsize=(15, 5), sharex=True, sharey=True)\n",
    "    si[si['job_type'] < 10]['job_type'].value_counts(normalize=True).sort_index().plot.barh(ax=axes[0], rot=0)\n",
    "    non_si[non_si['job_type'] < 10]['job_type'].value_counts(normalize=True).sort_index().plot.barh(ax=axes[1], rot=0)\n",
    "    \n",
    "    job_types = ['Home/Remote', 'Hybrid', 'Single Work Location', 'Multiple Locations', 'Drive/Bike/Travel for work'][::-1]\n",
    "    axes[0].set_yticklabels(job_types)\n",
    "    axes[1].set_yticklabels(job_types)\n",
    "    \n",
    "    axes[0].set_title('Staten Island')\n",
    "    axes[1].set_title('Other Regions')\n",
    "    axes[0].grid(axis='x')\n",
    "    axes[1].grid(axis='x')\n",
    "    \n",
    "    fig.suptitle('Job Type Distribution')"
   ]
  },
  {
   "cell_type": "code",
   "execution_count": 9,
   "metadata": {},
   "outputs": [],
   "source": [
    "def plot_trip_purpose_work(df):\n",
    "    si = df[df.home_cms_zone == 'Staten Island']\n",
    "    non_si = df[df.home_cms_zone != 'Staten Island']\n",
    "    \n",
    "    fig, axes = plt.subplots(1, 2, figsize=(15, 5), sharex=True, sharey=True)\n",
    "    si.trip_purpose_work.value_counts(normalize=True).sort_index().plot.bar(ax=axes[0])\n",
    "    non_si.trip_purpose_work.value_counts(normalize=True).sort_index().plot.bar(ax=axes[1])"
   ]
  },
  {
   "cell_type": "code",
   "execution_count": 10,
   "metadata": {},
   "outputs": [
    {
     "data": {
      "image/png": "[encoded data removed]",
      "text/plain": [
       "<Figure size 1080x360 with 2 Axes>"
      ]
     },
     "metadata": {
      "needs_background": "light"
     },
     "output_type": "display_data"
    },
    {
     "data": {
      "image/png": "[encoded data removed]",
      "text/plain": [
       "<Figure size 1080x360 with 2 Axes>"
      ]
     },
     "metadata": {
      "needs_background": "light"
     },
     "output_type": "display_data"
    }
   ],
   "source": [
    "df = dfs[0]\n",
    "df = df[survey_columns]\n",
    "plot_job_types(df)\n",
    "plot_trip_purpose_work(df)"
   ]
  },
  {
   "cell_type": "code",
   "execution_count": 12,
   "metadata": {},
   "outputs": [
    {
     "data": {
      "text/plain": [
       "Index(['person_id', 'hh_id', 'exercise', 'exercise_sidewalk',\n",
       "       'exercise_open_street', 'exercise_plaza', 'exercise_park',\n",
       "       'exercise_trail', 'exercise_other', 'bike_num_days',\n",
       "       ...\n",
       "       'education_cms', 'gender_cms', 'disability_concentrating_cms',\n",
       "       'disability_dressing_cms', 'disability_hearing_cms',\n",
       "       'disability_mobility_cms', 'disability_seeing_cms',\n",
       "       'disability_walking_cms', 'disability_none_cms', 'weight'],\n",
       "      dtype='object', length=176)"
      ]
     },
     "execution_count": 12,
     "metadata": {},
     "output_type": "execute_result"
    }
   ],
   "source": [
    "dfs[0].columns"
   ]
  },
  {
   "cell_type": "code",
   "execution_count": null,
   "metadata": {},
   "outputs": [],
   "source": []
  }
 ],
 "metadata": {
  "kernelspec": {
   "display_name": "sg_mob",
   "language": "python",
   "name": "sg_mob"
  },
  "language_info": {
   "codemirror_mode": {
    "name": "ipython",
    "version": 3
   },
   "file_extension": ".py",
   "mimetype": "text/x-python",
   "name": "python",
   "nbconvert_exporter": "python",
   "pygments_lexer": "ipython3",
   "version": "3.8.6"
  }
 },
 "nbformat": 4,
 "nbformat_minor": 4
}
