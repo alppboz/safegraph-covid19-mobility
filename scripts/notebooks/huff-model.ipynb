{
 "cells": [
  {
   "cell_type": "code",
   "execution_count": 1,
   "metadata": {},
   "outputs": [],
   "source": [
    "import sys\n",
    "sys.path.insert(1, '..')\n",
    "from utils import *\n",
    "from sklearn.metrics.pairwise import haversine_distances\n",
    "from math import radians\n",
    "from scipy.stats import gmean\n",
    "import seaborn as sns\n",
    "from pyswarms.single.global_best import GlobalBestPSO\n",
    "\n",
    "%matplotlib inline"
   ]
  },
  {
   "cell_type": "code",
   "execution_count": 2,
   "metadata": {},
   "outputs": [],
   "source": [
    "with open(join('..', '..', 'config.yml')) as f:\n",
    "    config = yaml.safe_load(f)\n",
    "    \n",
    "pwd = config['pwd']\n",
    "dpath = config['storage']\n",
    "patterns = config['pattern-data-path'] \n",
    "util_datasets = config['util_datasets']\n",
    "datasets = config['datasets']\n",
    "colors = config['colors']\n",
    "AREA_NAME = 'NYC'\n",
    "\n",
    "FIG_SAVE_DIR = join(pwd, 'figures')\n",
    "RESULT_SAVE_DIR = join(pwd, 'results')\n",
    "\n",
    "HUFF_MODEL_SAVE_DIR = join(pwd, util_datasets, 'huff_model_params')\n",
    "if not os.path.isdir(HUFF_MODEL_SAVE_DIR):\n",
    "    os.mkdir(HUFF_MODEL_SAVE_DIR)"
   ]
  },
  {
   "cell_type": "code",
   "execution_count": 3,
   "metadata": {},
   "outputs": [],
   "source": [
    "def get_cbg_locs(selected_cbgs=None):\n",
    "    nyc_geojson = join(pwd, 'util_datasets', AREA_NAME, f'{AREA_NAME}-cbgs.json')\n",
    "    base_df = gpd.read_file(nyc_geojson)\n",
    "    base_df = base_df.to_crs('EPSG:4326')\n",
    "    base_df = base_df[base_df.BLKGRPCE != '0']\n",
    "    \n",
    "    if isinstance(selected_cbgs, str):\n",
    "        base_df = base_df[base_df.GEOID.str[:5] == selected_cbgs]\n",
    "    elif isinstance(selected_cbgs, set):\n",
    "        base_df = base_df[base_df.GEOID.isin(selected_cbgs)]\n",
    "        \n",
    "    base_df['GEOID'] = base_df['GEOID'].astype(str).str[:-1]\n",
    "    base_df = base_df.dissolve(by='GEOID', as_index=False)\n",
    "    \n",
    "    base_df['centroid_lon'] = base_df.geometry.centroid.x\n",
    "    base_df['centroid_lat'] = base_df.geometry.centroid.y\n",
    "    cbg_locs = base_df[['GEOID', 'centroid_lat', 'centroid_lon']].set_index('GEOID')\n",
    "    \n",
    "    return cbg_locs"
   ]
  },
  {
   "cell_type": "code",
   "execution_count": 4,
   "metadata": {},
   "outputs": [],
   "source": [
    "def get_poi_areas(pois):\n",
    "    poi_ids = pd.read_csv(join(pwd, util_datasets, 'safegraph_poi_areas.csv'), usecols=['safegraph_place_id', 'area_square_feet'], index_col='safegraph_place_id')\n",
    "    return pois.join(poi_ids, how='inner')\n",
    "\n",
    "def get_poi_attrs(poi_cat=None):\n",
    "    poi_dir = join(pwd, dpath, 'area-pois', AREA_NAME)\n",
    "    dfs = []\n",
    "    for f in os.listdir(poi_dir):\n",
    "        df = pd.read_csv(join(poi_dir, f))\n",
    "        if poi_cat:\n",
    "            df = df[df['top_category'] == poi_cat]\n",
    "        dfs.append(df)\n",
    "\n",
    "    df = pd.concat(dfs).drop_duplicates(subset=['safegraph_place_id'])\n",
    "\n",
    "    poi_locs = df[['safegraph_place_id', 'latitude', 'longitude']].set_index('safegraph_place_id')\n",
    "    res = get_poi_areas(poi_locs)\n",
    "    return res[['latitude', 'longitude']], res[['area_square_feet']]\n",
    "\n",
    "def get_cbg_poi_div_count():\n",
    "    # return the poi count and diversity in the given cbgs\n",
    "    shape_files = join(pwd, 'util_datasets', 'NY-msa-shapefiles')\n",
    "    target_county_fips = set(pd.read_csv(join(pwd, 'util_datasets', 'NY-msa-counties.csv'))['fips'].astype(str))\n",
    "    \n",
    "    dfs = []\n",
    "    for sh in os.listdir(shape_files):\n",
    "        df = gpd.read_file(join(shape_files, sh))\n",
    "        dfs.append(df[df['GEOID'].str[:5].isin(target_county_fips)][['GEOID', 'geometry']])\n",
    "        \n",
    "    tracts = gpd.GeoDataFrame(pd.concat(dfs, ignore_index=True))\n",
    "    \n",
    "    tracts['GEOID'] = tracts['GEOID'].astype(str).str[:-1]\n",
    "    tracts = tracts.dissolve(by='GEOID', as_index=False)\n",
    "        \n",
    "    poi_dir = join(pwd, dpath, 'area-pois', AREA_NAME)\n",
    "    dfs = []\n",
    "    for f in tqdm(os.listdir(poi_dir)):\n",
    "        df = pd.read_csv(join(poi_dir, f), usecols=['safegraph_place_id', 'top_category', 'latitude', 'longitude'])\n",
    "        gdf = gpd.GeoDataFrame(df, geometry=gpd.points_from_xy(df.longitude, df.latitude))\n",
    "        dfs.append(gpd.sjoin(gdf, tracts, how='inner', op='within'))\n",
    "        \n",
    "    df = pd.concat(dfs).drop_duplicates(subset=['safegraph_place_id'])\n",
    "    grouped = df.groupby('GEOID')\n",
    "    diversity = grouped.apply(lambda x: len(x['top_category'].unique()))\n",
    "    count = grouped.apply(lambda x: x['top_category'].shape[0])\n",
    "    \n",
    "    df = df.merge(diversity.rename('poi_diversity_where_store_is'), left_on='GEOID', right_index=True)\n",
    "    res = df.merge(count.rename('poi_count_where_store_is'), left_on='GEOID', right_index=True)\n",
    "    return res[['safegraph_place_id', 'poi_diversity_where_store_is', 'poi_count_where_store_is', 'GEOID']]"
   ]
  },
  {
   "cell_type": "code",
   "execution_count": 5,
   "metadata": {},
   "outputs": [],
   "source": [
    "def match_poi2cbg(poi_locs):\n",
    "    nyc_geojson = join(pwd, 'util_datasets', AREA_NAME, f'{AREA_NAME}-cbgs.json')\n",
    "    base_df = gpd.read_file(nyc_geojson)\n",
    "    base_df = base_df.to_crs('EPSG:4326')\n",
    "    base_df = base_df[base_df.BLKGRPCE != '0']\n",
    "    base_df = base_df[['GEOID', 'geometry']]\n",
    "    \n",
    "#     base_df['GEOID'] = base_df['GEOID'].astype(str).str[:-1]\n",
    "#     base_df = base_df.dissolve(by='GEOID', as_index=False)\n",
    "    \n",
    "    gdf = gpd.GeoDataFrame(poi_locs.copy(), geometry=gpd.points_from_xy(poi_locs.longitude, poi_locs.latitude))\n",
    "    \n",
    "    return gpd.sjoin(gdf, base_df, how='inner', op='within')"
   ]
  },
  {
   "cell_type": "code",
   "execution_count": 6,
   "metadata": {},
   "outputs": [],
   "source": [
    "def get_nvisits(row, cbg_visits, keys):\n",
    "    poi = row['safegraph_place_id']\n",
    "    entries = json.loads(row['visitor_home_cbgs'])\n",
    "    for cbg in entries.keys():\n",
    "        ct = cbg[:-1]\n",
    "        if ct in keys:\n",
    "            cbg_visits.loc[ct, poi] += entries[cbg]"
   ]
  },
  {
   "cell_type": "code",
   "execution_count": 7,
   "metadata": {},
   "outputs": [],
   "source": [
    "def agg_visits_by_cbgs(distance_mat, pattern_files):\n",
    "    cbg_visits = pd.DataFrame(np.zeros(distance_mat.shape), index=distance_mat.index, columns=distance_mat.columns)\n",
    "    cbg_lookup = set(distance_mat.index)\n",
    "    poi_lookup = set(distance_mat.columns)\n",
    "    \n",
    "    for f in tqdm(pattern_files):\n",
    "        df = pd.read_csv(f)\n",
    "        df = df[df.safegraph_place_id.isin(poi_lookup)]\n",
    "        df.apply(get_nvisits, cbg_visits=cbg_visits, keys=cbg_lookup, axis=1)\n",
    "\n",
    "    return cbg_visits"
   ]
  },
  {
   "cell_type": "code",
   "execution_count": 8,
   "metadata": {},
   "outputs": [],
   "source": [
    "def get_spreader_cbgs(pct=0.75):\n",
    "    spreader_cbgs = pd.read_csv(join(pwd, util_datasets, 'nyc_spreader_rank.csv'))\n",
    "    return spreader_cbgs[spreader_cbgs['rank'] >= pct].cbg.astype(str).values\n",
    "\n",
    "def gen_rand_loc(c_lat, c_lng, r=1000):\n",
    "    # https://github.com/rmrs/random-location/blob/master/src/index.js\n",
    "    sin_lat = np.sin(np.radians(c_lat))\n",
    "    cos_lat = np.cos(np.radians(c_lat))\n",
    "    \n",
    "    bearing = np.random.rand() * np.pi * 2\n",
    "    sin_bearing = np.sin(bearing)\n",
    "    cos_bearing = np.cos(bearing)\n",
    "    \n",
    "    t = r / 6371000\n",
    "    sint = np.sin(t)\n",
    "    cost = np.cos(t)\n",
    "    \n",
    "    rlat = np.arcsin(sin_lat * cost + cos_lat * sint * cos_bearing)\n",
    "    rlng = np.radians(c_lng) + np.arctan2(sin_bearing * sint * cos_lat, cost - sin_lat * np.sin(rlat))\n",
    "    rlng = ((rlng + np.pi*3) % (np.pi*2)) - np.pi;\n",
    "    \n",
    "    to_deg = lambda rad: rad / (np.pi / 180)\n",
    "    \n",
    "    return [to_deg(rlat), to_deg(rlng)]"
   ]
  },
  {
   "cell_type": "code",
   "execution_count": 9,
   "metadata": {},
   "outputs": [],
   "source": [
    "def comp_dist_matrix(cbg_locs, poi_locs, betas=None):\n",
    "    dist_matrix = pd.DataFrame(haversine_distances(np.radians(cbg_locs), np.radians(poi_locs)) * 6371, index=cbg_locs.index, columns=poi_locs.index)\n",
    "    # dist_matrix = 1/dist_matrix\n",
    "    \n",
    "    if isinstance(betas, set):\n",
    "        for cbg, beta in betas.items():\n",
    "            dist_matrix.loc[cbg] *= beta\n",
    "\n",
    "    return dist_matrix #dist_matrix.div(dist_matrix.sum(axis=1), axis=0)\n",
    "\n",
    "def get_cbg_visits(dist_mat):\n",
    "    pattern_dir = join(pwd, dpath, 'filtered-patterns-msa', 'NYC-patterns')\n",
    "    date_format = '%Y-%m-%d'\n",
    "    pattern_files = [(datetime.strptime(f.split('.')[0], date_format), join(pattern_dir, f)) for f in os.listdir(pattern_dir)]\n",
    "\n",
    "    patterns = []\n",
    "    for dt, f in pattern_files:\n",
    "        if dt >= start_date and dt <= end_date:\n",
    "            patterns.append(f)\n",
    "\n",
    "    return agg_visits_by_cbgs(dist_mat, patterns)"
   ]
  },
  {
   "cell_type": "code",
   "execution_count": 10,
   "metadata": {},
   "outputs": [],
   "source": [
    "def ols_huff_params(agg_visits, dist_mat, poi_areas, cbg_poi_div, cbg_poi_counts):\n",
    "    # https://www.esri.com/content/dam/esrisites/sitecore-archive/Files/Pdfs/library/whitepapers/pdfs/calibrating-huff-model.pdf\n",
    "    cbgs = dist_mat.index\n",
    "    model_params = []\n",
    "    cbg_vec = set(cbg_poi_div.index)\n",
    "    \n",
    "    # geometric mean of poi areas\n",
    "    a_j = gmean(poi_areas.area_square_feet.values)\n",
    "    \n",
    "    for cbg in tqdm(cbgs):\n",
    "        poi_visits = agg_visits.loc[cbg]\n",
    "        p_ij = (poi_visits / poi_visits.sum()) + 1e-8\n",
    "        \n",
    "        if p_ij.shape[0] == 0:\n",
    "            continue\n",
    "        \n",
    "        # geometric mean of p_ij\n",
    "        p_i_hat = gmean(p_ij)\n",
    "        # geometric mean of D_ij\n",
    "        d_i = gmean(dist_mat.loc[cbg])\n",
    "        \n",
    "        reg_table = pd.DataFrame(p_ij)\n",
    "        reg_table.columns = ['p_ij']\n",
    "        \n",
    "        reg_table['p_ij'] = reg_table['p_ij'] / p_i_hat\n",
    "        reg_table['area'] = 0\n",
    "        reg_table['distance'] = 0\n",
    "        reg_table['poi_diversity'] = cbg_poi_div[cbg] if cbg in cbg_vec else 1\n",
    "        reg_table['poi_count'] = cbg_poi_counts[cbg] if cbg in cbg_vec else 1\n",
    "\n",
    "        for ind in reg_table.index:\n",
    "            reg_table.loc[ind, 'distance'] = dist_mat.loc[cbg, ind] / d_i\n",
    "            reg_table.loc[ind, 'area'] = poi_areas.loc[ind, 'area_square_feet'] / a_j\n",
    "\n",
    "        reg_table = np.log(reg_table)\n",
    "#         reg_table = reg_table.replace([np.inf, -np.inf], np.nan)\n",
    "#         reg_table = reg_table.dropna()\n",
    "        \n",
    "        features = reg_table.drop('p_ij', axis=1)\n",
    "        \n",
    "        model = sm.OLS(reg_table['p_ij'], features)\n",
    "        results = model.fit()\n",
    "        cbg_params = {'cbg': cbg}\n",
    "        for c, p in zip(features.columns, results.params):\n",
    "            cbg_params[c] = p\n",
    "        model_params.append(cbg_params)\n",
    "        with open(join(HUFF_MODEL_SAVE_DIR, f'{cbg}-all-features.txt'), 'w') as fl:\n",
    "            fl.write(results.summary().as_text())\n",
    "    \n",
    "    return model_params"
   ]
  },
  {
   "cell_type": "code",
   "execution_count": 11,
   "metadata": {},
   "outputs": [],
   "source": [
    "def scale_range(values, new_min=1, new_max=10):\n",
    "    old_min = np.min(values)\n",
    "    old_max = np.max(values)\n",
    "    \n",
    "    old_range = (old_max - old_min)\n",
    "    new_range = (new_max - new_min)\n",
    "    return (((values - old_min) * new_range) / old_range) + new_min\n",
    "\n",
    "def huff_corr(cbg_table, exp_distance, exp_area, exp_poi_diversity, exp_poi_count, get_corr=False):\n",
    "    numerator = (cbg_table['area_square_feet']**exp_area) * (cbg_table['poi_diversity_where_store_is']**exp_poi_diversity) * (cbg_table['poi_count_where_store_is']**exp_poi_count)\n",
    "    cbg_table['sim_nvisits'] = numerator / (cbg_table['distance']**exp_distance)\n",
    "    \n",
    "    if cbg_table['sim_nvisits'].sum() != 0:\n",
    "        cbg_table['sim_nvisits'] /= cbg_table['sim_nvisits'].sum()\n",
    "\n",
    "    #cbg_table = cbg_table[~cbg_table['sim_nvisits'].isin([np.nan, np.inf, -np.inf])]\n",
    "    \n",
    "    corr_res = stats.pearsonr(cbg_table['nvisits'] / cbg_table['nvisits'].sum(), cbg_table['sim_nvisits'])\n",
    "    \n",
    "    if get_corr:\n",
    "        return corr_res\n",
    "    return 1 - corr_res[0]\n",
    "\n",
    "def obj_func(X, cbg_table):\n",
    "    n_particles = X.shape[0]\n",
    "    cost = [huff_corr(cbg_table, *X[i]) for i in range(n_particles)]\n",
    "    return np.array(cost)\n",
    "\n",
    "def pso_huff_params(cbg_table, iters=10, init_pos=None, n_particles=20):\n",
    "    constraints = (np.array([1, 1, 1, 1]), np.array([100, 100, 100, 100]))\n",
    "    options = {'c1': 1.5, 'c2': 1.5, 'w': 0.9}\n",
    "    optimizer = GlobalBestPSO(n_particles=n_particles,\n",
    "                    dimensions=4,\n",
    "                    options=options,\n",
    "                    bounds=constraints,\n",
    "                    init_pos=init_pos)\n",
    "    cost, joint_vars = optimizer.optimize(obj_func, iters=iters, cbg_table=cbg_table, verbose=False)\n",
    "    return cost, joint_vars"
   ]
  },
  {
   "cell_type": "code",
   "execution_count": 12,
   "metadata": {},
   "outputs": [],
   "source": [
    "def huff_param_borough(borough, poi_locs, poi_areas, poi_cbg_ids, start_date, end_date, cbg_poi_div, cbg_poi_counts):    \n",
    "    selected_cbsg = str(nyc_borough2fips[borough])\n",
    "    cbg_locs = get_cbg_locs(selected_cbgs=selected_cbsg)    \n",
    "\n",
    "    dist_mat = comp_dist_matrix(cbg_locs, poi_locs)\n",
    "\n",
    "    poi_cbg_visits = get_cbg_visits(dist_mat)\n",
    "    \n",
    "#     dists = []\n",
    "#     area_lst = []\n",
    "#     for cbg in dist_mat.index:\n",
    "#         visits = poi_cbg_visits.loc[cbg]\n",
    "#         visits = visits[visits > 0]\n",
    "#         dist = dist_mat.loc[cbg, visits.index]\n",
    "#         dists.extend(list(dist.repeat(visits.astype(int).values)))\n",
    "        \n",
    "#     print(borough, np.median(dists))\n",
    "\n",
    "    return ols_huff_params(poi_cbg_visits, dist_mat, poi_areas, cbg_poi_div, cbg_poi_counts)"
   ]
  },
  {
   "cell_type": "code",
   "execution_count": 13,
   "metadata": {},
   "outputs": [],
   "source": [
    "# boroughs = list(nyc_borough2fips.keys())\n",
    "# borough = 'Staten Island'\n",
    "# poi_cat = 'Grocery Stores'\n",
    "# start_date = datetime(2020, 3, 22)\n",
    "# end_date = datetime(2020, 6, 8)\n",
    "\n",
    "# poi_locs, poi_areas = get_poi_attrs(poi_cat=poi_cat)\n",
    "# poi_cbg_ids = match_poi2cbg(poi_locs)"
   ]
  },
  {
   "cell_type": "code",
   "execution_count": 15,
   "metadata": {},
   "outputs": [
    {
     "name": "stderr",
     "output_type": "stream",
     "text": [
      "100%|████████████████████████████████████████████████████████████████████████████████████| 7/7 [01:41<00:00, 14.45s/it]\n",
      "100%|██████████████████████████████████████████████████████████████████████████████████| 12/12 [00:16<00:00,  1.34s/it]\n",
      "100%|██████████████████████████████████████████████████████████████████████████████| 760/760 [5:36:25<00:00, 26.56s/it]\n"
     ]
    }
   ],
   "source": [
    "boroughs = list(nyc_borough2fips.keys())\n",
    "#borough = 'Staten Island'\n",
    "poi_cat = 'Grocery Stores'\n",
    "start_date = datetime(2020, 3, 22)\n",
    "end_date = datetime(2020, 6, 8)\n",
    "\n",
    "poi_locs, poi_areas = get_poi_attrs(poi_cat=poi_cat)\n",
    "poi_cbg_ids = match_poi2cbg(poi_locs)\n",
    "\n",
    "for borough in boroughs:\n",
    "    if os.path.exists(join(HUFF_MODEL_SAVE_DIR, f'{borough}-{poi_cat}-all-features-ctract-detailed.csv')):\n",
    "        continue\n",
    "    selected_cbsg = str(nyc_borough2fips[borough])\n",
    "    cbg_locs = get_cbg_locs(selected_cbgs=selected_cbsg)\n",
    "    dist_mat = comp_dist_matrix(cbg_locs, poi_locs)\n",
    "\n",
    "    poi_div_count = get_cbg_poi_div_count()\n",
    "    poi_cbg_visits = get_cbg_visits(dist_mat)\n",
    "\n",
    "    n_particles = 20\n",
    "    iters = 500\n",
    "    cbg_exps = []\n",
    "    for cbg in tqdm(dist_mat.index):\n",
    "        visits = poi_cbg_visits.loc[cbg].rename('nvisits')\n",
    "\n",
    "        if visits.sum() == 0:\n",
    "            continue\n",
    "\n",
    "        dist = dist_mat.loc[cbg].rename('distance')\n",
    "\n",
    "        table = pd.concat([visits, dist, poi_areas, poi_div_count.dropna().set_index('safegraph_place_id').drop('GEOID', axis=1)], axis=1, join='inner')\n",
    "        features = table.columns.tolist()\n",
    "        features.remove('nvisits')\n",
    "\n",
    "        for f in features:\n",
    "            table[f] = scale_range(table[f].values)\n",
    "\n",
    "        params = pso_huff_params(table, iters=iters, n_particles=n_particles)\n",
    "        corr = huff_corr(table, *params[1], get_corr=True)\n",
    "\n",
    "        cbg_exps.append({'census_tract': cbg,\n",
    "                         'exp_distance': params[1][0],\n",
    "                         'exp_area': params[1][1], \n",
    "                         'exp_poi_diversity': params[1][2], \n",
    "                         'exp_poi_count': params[1][3], \n",
    "                         'corr': corr[0], \n",
    "                         'p': corr[1]})\n",
    "\n",
    "    pd.DataFrame(cbg_exps).to_csv(join(HUFF_MODEL_SAVE_DIR, f'{borough}-{poi_cat}-all-features-ctract-detailed.csv'), index=False)"
   ]
  },
  {
   "cell_type": "code",
   "execution_count": 29,
   "metadata": {},
   "outputs": [],
   "source": [
    "dfs = []\n",
    "for f in os.listdir(HUFF_MODEL_SAVE_DIR):\n",
    "    if 'ctract-detailed' in f:\n",
    "        dfs.append(pd.read_csv(join(HUFF_MODEL_SAVE_DIR, f)))\n",
    "res = pd.concat(dfs, axis=0)\n",
    "res['borough'] = res['census_tract'].apply(lambda x: nyc_fips2borough[int(str(x)[:5])])"
   ]
  },
  {
   "cell_type": "code",
   "execution_count": 30,
   "metadata": {},
   "outputs": [
    {
     "data": {
      "text/html": [
       "<div>\n",
       "<style scoped>\n",
       "    .dataframe tbody tr th:only-of-type {\n",
       "        vertical-align: middle;\n",
       "    }\n",
       "\n",
       "    .dataframe tbody tr th {\n",
       "        vertical-align: top;\n",
       "    }\n",
       "\n",
       "    .dataframe thead th {\n",
       "        text-align: right;\n",
       "    }\n",
       "</style>\n",
       "<table border=\"1\" class=\"dataframe\">\n",
       "  <thead>\n",
       "    <tr style=\"text-align: right;\">\n",
       "      <th></th>\n",
       "      <th>census_tract</th>\n",
       "      <th>exp_distance</th>\n",
       "      <th>exp_area</th>\n",
       "      <th>exp_poi_diversity</th>\n",
       "      <th>exp_poi_count</th>\n",
       "      <th>corr</th>\n",
       "      <th>p</th>\n",
       "      <th>borough</th>\n",
       "    </tr>\n",
       "  </thead>\n",
       "  <tbody>\n",
       "    <tr>\n",
       "      <th>0</th>\n",
       "      <td>36005000100</td>\n",
       "      <td>83.316688</td>\n",
       "      <td>75.373961</td>\n",
       "      <td>39.669220</td>\n",
       "      <td>16.351635</td>\n",
       "      <td>-0.000299</td>\n",
       "      <td>9.767938e-01</td>\n",
       "      <td>Bronx</td>\n",
       "    </tr>\n",
       "    <tr>\n",
       "      <th>1</th>\n",
       "      <td>36005000200</td>\n",
       "      <td>95.186448</td>\n",
       "      <td>3.569657</td>\n",
       "      <td>1.089487</td>\n",
       "      <td>6.658740</td>\n",
       "      <td>0.008257</td>\n",
       "      <td>4.219422e-01</td>\n",
       "      <td>Bronx</td>\n",
       "    </tr>\n",
       "    <tr>\n",
       "      <th>2</th>\n",
       "      <td>36005000400</td>\n",
       "      <td>99.575703</td>\n",
       "      <td>1.529885</td>\n",
       "      <td>12.270193</td>\n",
       "      <td>2.576492</td>\n",
       "      <td>0.088526</td>\n",
       "      <td>6.324012e-18</td>\n",
       "      <td>Bronx</td>\n",
       "    </tr>\n",
       "    <tr>\n",
       "      <th>3</th>\n",
       "      <td>36005001600</td>\n",
       "      <td>76.834447</td>\n",
       "      <td>1.709444</td>\n",
       "      <td>3.182149</td>\n",
       "      <td>8.284312</td>\n",
       "      <td>0.211582</td>\n",
       "      <td>3.270160e-96</td>\n",
       "      <td>Bronx</td>\n",
       "    </tr>\n",
       "    <tr>\n",
       "      <th>4</th>\n",
       "      <td>36005001900</td>\n",
       "      <td>68.780164</td>\n",
       "      <td>6.297623</td>\n",
       "      <td>5.592525</td>\n",
       "      <td>1.547692</td>\n",
       "      <td>0.385190</td>\n",
       "      <td>0.000000e+00</td>\n",
       "      <td>Bronx</td>\n",
       "    </tr>\n",
       "  </tbody>\n",
       "</table>\n",
       "</div>"
      ],
      "text/plain": [
       "   census_tract  exp_distance   exp_area  exp_poi_diversity  exp_poi_count  \\\n",
       "0   36005000100     83.316688  75.373961          39.669220      16.351635   \n",
       "1   36005000200     95.186448   3.569657           1.089487       6.658740   \n",
       "2   36005000400     99.575703   1.529885          12.270193       2.576492   \n",
       "3   36005001600     76.834447   1.709444           3.182149       8.284312   \n",
       "4   36005001900     68.780164   6.297623           5.592525       1.547692   \n",
       "\n",
       "       corr             p borough  \n",
       "0 -0.000299  9.767938e-01   Bronx  \n",
       "1  0.008257  4.219422e-01   Bronx  \n",
       "2  0.088526  6.324012e-18   Bronx  \n",
       "3  0.211582  3.270160e-96   Bronx  \n",
       "4  0.385190  0.000000e+00   Bronx  "
      ]
     },
     "execution_count": 30,
     "metadata": {},
     "output_type": "execute_result"
    }
   ],
   "source": [
    "res.head()"
   ]
  },
  {
   "cell_type": "code",
   "execution_count": 19,
   "metadata": {},
   "outputs": [
    {
     "data": {
      "image/png": "[encoded data removed]",
      "text/plain": [
       "<Figure size 1440x720 with 6 Axes>"
      ]
     },
     "metadata": {
      "needs_background": "light"
     },
     "output_type": "display_data"
    }
   ],
   "source": [
    "fig, axes = plt.subplots(2, 3, figsize=(20, 10))\n",
    "cols = ['exp_distance', 'exp_area', 'exp_poi_diversity', 'exp_poi_count', 'corr', 'p']\n",
    "col2name = dict(zip(cols, ['Distance', 'Area', 'POI Diversity Where Store is', 'POI Count Where Store is', 'Spearman Corr', 'P value']))\n",
    "\n",
    "for ax, col in zip(axes.flatten(), cols):\n",
    "    sns.boxplot(x='borough', y=col, data=res, ax=ax)\n",
    "    ax.set_title(col2name[col], fontsize=13)\n",
    "    ax.set_xlabel(None)\n",
    "    ax.set_ylabel(None)\n",
    "    \n",
    "fig.suptitle('Resulting Huff Exponents For Each Borough (Model Evaluation wtih Spearman Corr and P values)', fontsize=20, y=.96)\n",
    "fig.savefig(join(FIG_SAVE_DIR, 'huff-model-exps-detailed.png'), bbox_inches='tight')"
   ]
  },
  {
   "cell_type": "code",
   "execution_count": 187,
   "metadata": {},
   "outputs": [],
   "source": [
    "boroughs = list(nyc_borough2fips.keys())\n",
    "for borough in boroughs:\n",
    "    model_params = huff_param_borough(borough, poi_locs, poi_areas, poi_cbg_ids, start_date, end_date, cbg_poi_div, cbg_poi_counts)\n",
    "    pd.DataFrame(model_params).to_csv(join(HUFF_MODEL_SAVE_DIR, f'{borough}-{poi_cat}-all-features.csv'), index=False)"
   ]
  },
  {
   "cell_type": "code",
   "execution_count": 20,
   "metadata": {},
   "outputs": [
    {
     "data": {
      "text/plain": [
       "borough\n",
       "Bronx            0.000428\n",
       "Brooklyn         0.000455\n",
       "Manhattan        0.000564\n",
       "Queens           0.000401\n",
       "Staten Island    0.000327\n",
       "dtype: float64"
      ]
     },
     "execution_count": 20,
     "metadata": {},
     "output_type": "execute_result"
    }
   ],
   "source": [
    "borough_population = {'Bronx': 1472654, 'Brooklyn': 2736074, 'Manhattan': 1694263, 'Queens': 2405464, 'Staten Island': 495747}\n",
    "poi_cbg_ids['borough'] = poi_cbg_ids.GEOID.str[:5].apply(lambda x: nyc_fips2borough[int(x)])\n",
    "poi_counts_by_borough = poi_cbg_ids.groupby('borough').size()\n",
    "poi_per_capita_by_borough = poi_counts_by_borough / pd.Series(borough_population)\n",
    "poi_per_capita_by_borough"
   ]
  },
  {
   "cell_type": "code",
   "execution_count": 30,
   "metadata": {},
   "outputs": [
    {
     "name": "stderr",
     "output_type": "stream",
     "text": [
      "100%|██████████████████████████████████████████████████████████████████████████████████| 12/12 [00:08<00:00,  1.39it/s]\n"
     ]
    },
    {
     "name": "stdout",
     "output_type": "stream",
     "text": [
      "Staten Island 2.5979491670399835\n"
     ]
    },
    {
     "name": "stderr",
     "output_type": "stream",
     "text": [
      "100%|██████████████████████████████████████████████████████████████████████████████████| 12/12 [00:08<00:00,  1.34it/s]\n"
     ]
    },
    {
     "name": "stdout",
     "output_type": "stream",
     "text": [
      "Manhattan 0.8688690329675698\n"
     ]
    },
    {
     "name": "stderr",
     "output_type": "stream",
     "text": [
      "100%|██████████████████████████████████████████████████████████████████████████████████| 12/12 [00:12<00:00,  1.06s/it]\n"
     ]
    },
    {
     "name": "stdout",
     "output_type": "stream",
     "text": [
      "Bronx 1.227487879618382\n"
     ]
    },
    {
     "name": "stderr",
     "output_type": "stream",
     "text": [
      "100%|██████████████████████████████████████████████████████████████████████████████████| 12/12 [00:15<00:00,  1.30s/it]\n"
     ]
    },
    {
     "name": "stdout",
     "output_type": "stream",
     "text": [
      "Queens 1.6880514186276077\n"
     ]
    },
    {
     "name": "stderr",
     "output_type": "stream",
     "text": [
      "100%|██████████████████████████████████████████████████████████████████████████████████| 12/12 [00:15<00:00,  1.32s/it]\n"
     ]
    },
    {
     "name": "stdout",
     "output_type": "stream",
     "text": [
      "Brooklyn 1.3423208402116742\n"
     ]
    }
   ],
   "source": [
    "# for borough in boroughs:\n",
    "#     huff_param_borough(borough, poi_locs, poi_areas, poi_cbg_ids, start_date, end_date)"
   ]
  },
  {
   "cell_type": "code",
   "execution_count": 15,
   "metadata": {
    "collapsed": true,
    "jupyter": {
     "outputs_hidden": true
    }
   },
   "outputs": [
    {
     "data": {
      "text/plain": [
       "(F_onewayResult(statistic=273.6021300189622, pvalue=5.50302759718458e-217),\n",
       " F_onewayResult(statistic=528.82686482474, pvalue=0.0))"
      ]
     },
     "execution_count": 15,
     "metadata": {},
     "output_type": "execute_result"
    },
    {
     "data": {
      "image/png": "[encoded data removed]",
      "text/plain": [
       "<Figure size 720x360 with 1 Axes>"
      ]
     },
     "metadata": {
      "needs_background": "light"
     },
     "output_type": "display_data"
    },
    {
     "data": {
      "image/png": "[encoded data removed]",
      "text/plain": [
       "<Figure size 720x360 with 1 Axes>"
      ]
     },
     "metadata": {
      "needs_background": "light"
     },
     "output_type": "display_data"
    }
   ],
   "source": [
    "dfs = []\n",
    "boroughs = nyc_borough2fips.keys()\n",
    "for borough in boroughs:\n",
    "    df = pd.read_csv(join(HUFF_MODEL_SAVE_DIR,  f'{borough}-{poi_cat}-all-features.csv'))\n",
    "    dfs.append(df)\n",
    "        \n",
    "df = pd.concat(dfs)\n",
    "\n",
    "fig, ax = plt.subplots(1, 1, figsize=(10, 5))\n",
    "sns.boxplot(y='param', x='borough', data=df[df.parameter == 'alpha'], ax=ax)\n",
    "ax.set_xlabel(None)\n",
    "ax.set_ylabel(None)\n",
    "ax.set_title('Alpha Exponent (POI Areas) Distribution in each Borough', fontsize=15)\n",
    "ax.tick_params(labelsize=14)\n",
    "fig.savefig(join(FIG_SAVE_DIR, 'alpha-dist-by-borough.png'))\n",
    "\n",
    "fig, ax = plt.subplots(1, 1, figsize=(10, 5))\n",
    "sns.boxplot(y='param', x='borough', data=df[df.parameter == 'beta'], ax=ax)\n",
    "ax.set_xlabel(None)\n",
    "ax.set_ylabel(None)\n",
    "ax.set_title('Beta Exponent (Distance) Distribution in each Borough', fontsize=15)\n",
    "ax.tick_params(labelsize=14)\n",
    "fig.savefig(join(FIG_SAVE_DIR, 'beta-dist-by-borough.png'))\n",
    "\n",
    "def test_anova(params, boroughs):\n",
    "    from scipy.stats import f_oneway\n",
    "    values = []\n",
    "    \n",
    "    for borough in boroughs:\n",
    "        values.append(params[params.borough == borough].param.values)\n",
    "\n",
    "    return f_oneway(*values)\n",
    "\n",
    "alpha_params = df[df.parameter == 'alpha']\n",
    "beta_params = df[df.parameter == 'beta']\n",
    "\n",
    "test_anova(alpha_params, boroughs), test_anova(beta_params, boroughs)"
   ]
  },
  {
   "cell_type": "code",
   "execution_count": 16,
   "metadata": {},
   "outputs": [],
   "source": [
    "# nyc_geojson = join(pwd, 'util_datasets', AREA_NAME, f'{AREA_NAME}-cbgs.json')\n",
    "# base_df = gpd.read_file(nyc_geojson)\n",
    "# base_df = base_df.to_crs('EPSG:4326')\n",
    "# base_df = base_df[base_df.BLKGRPCE != '0']\n",
    "\n",
    "# base_df = base_df.merge(df, left_on='GEOID', right_on=df.index)\n",
    "\n",
    "# fig, ax = plt.subplots(figsize=(15, 15))\n",
    "# base_df[base_df['parameter'] == 'beta'].plot(ax=ax, column='param', legend=True)"
   ]
  },
  {
   "cell_type": "code",
   "execution_count": 33,
   "metadata": {},
   "outputs": [],
   "source": [
    "def simulate_matching_poi_per_capita(source_borough, target_borough, poi_cat, poi_per_capita_by_borough, \n",
    "                                     borough_population, poi_counts_by_borough, poi_locs, poi_areas, \n",
    "                                     start_date, end_date, pois_in_spreader_cbgs, other_pois, non_source_borough_poi, poi_div_count, cbg_mean_div, r=1000):\n",
    "    # given a pair of source and target boroughs, adjust the # of pois in source borough \n",
    "    # so that the poi per capita will be the same as target borough\n",
    "    new_num_pois = poi_per_capita_by_borough[target_borough] * borough_population[source_borough]\n",
    "    num_pois = poi_counts_by_borough[source_borough]\n",
    "    diff = int(new_num_pois - num_pois)\n",
    "    \n",
    "    if diff <= 0:\n",
    "        print('can not add hypothetical POIs to the given source borough')\n",
    "    else:\n",
    "        params_df = pd.read_csv(join(HUFF_MODEL_SAVE_DIR,  f'{borough}-{poi_cat}-all-features-ctract.csv'))\n",
    "        params_df.cbg = params_df.census_tract.astype(str)\n",
    "        params_df = params_df.set_index('census_tract')\n",
    "            \n",
    "        selected_cbgs = str(nyc_borough2fips[source_borough])\n",
    "        cbg_locs = get_cbg_locs(selected_cbgs=selected_cbgs)\n",
    "        \n",
    "        poi_locs = poi_locs.drop('sg:1324350d09df44c7a1df7e3e1b984850')\n",
    "        poi_areas = poi_areas.drop('sg:1324350d09df44c7a1df7e3e1b984850')\n",
    "        \n",
    "        rand_gen_poi_locs = []\n",
    "        div_cbgs = []\n",
    "        area_cbgs = []\n",
    "        for cbg in np.random.choice(cbg_locs.index, size=diff, replace=True):\n",
    "        #for cbg in cbg_locs.index:\n",
    "            entry = cbg_locs.loc[cbg]\n",
    "            div_cbgs.append(cbg_mean_div.loc[cbg, 'poi_diversity_where_store_is'] if cbg in cbg_mean_div.index else 1)\n",
    "            area_cbgs.append(cbg_mean_div.loc[cbg, 'poi_count_where_store_is'] if cbg in cbg_mean_div.index else 1)\n",
    "            rand_gen_poi_locs.append(gen_rand_loc(entry['centroid_lat'], entry['centroid_lon'], r))\n",
    "\n",
    "        rand_gen_poi_locs = pd.DataFrame(rand_gen_poi_locs, columns=poi_locs.columns)\n",
    "        sim_poi_locs = pd.concat([poi_locs, rand_gen_poi_locs])\n",
    "        sim_poi_div = pd.concat([poi_div_count.loc[poi_locs.index, 'poi_diversity_where_store_is'], pd.Series(div_cbgs)])\n",
    "        sim_poi_count = pd.concat([poi_div_count.loc[poi_locs.index, 'poi_count_where_store_is'], pd.Series(area_cbgs)])\n",
    "        \n",
    "        mean_poi_area = poi_areas.loc[poi_cbg_ids[poi_cbg_ids.borough == source_borough].index].area_square_feet.mean()\n",
    "        #sim_poi_areas = pd.concat([poi_areas.area_square_feet, pd.Series(mean_poi_area).repeat(diff).reset_index(drop=True).rename('safegraph_place_id')])\n",
    "        sim_poi_areas = pd.concat([poi_areas.area_square_feet, pd.Series(mean_poi_area).repeat(len(rand_gen_poi_locs)).reset_index(drop=True).rename('safegraph_place_id')])\n",
    "        \n",
    "        def comp_huff_mat(poi_locs, areas, poi_div, poi_count):\n",
    "            dist_mat = comp_dist_matrix(cbg_locs, poi_locs)\n",
    "            for cbg in dist_mat.index:\n",
    "                dist_mat.loc[cbg] = dist_mat.loc[cbg] ** -(params_df.loc[cbg, 'exp_distance'] if cbg in params_df.index else params_df['exp_distance'].mean())\n",
    "                dist_mat.loc[cbg] = dist_mat.loc[cbg] * (areas.loc[dist_mat.columns] ** (params_df.loc[cbg, 'exp_area'] if cbg in params_df.index else params_df['exp_area'].mean()))\n",
    "                dist_mat.loc[cbg] = dist_mat.loc[cbg] * (poi_div ** (params_df.loc[cbg, 'exp_poi_diversity'] if cbg in params_df.index else params_df['exp_poi_diversity'].mean()))\n",
    "                dist_mat.loc[cbg] = dist_mat.loc[cbg] * (poi_count ** (params_df.loc[cbg, 'exp_poi_count'] if cbg in params_df.index else params_df['exp_poi_count'].mean()))\n",
    "                dist_mat.loc[cbg] /= dist_mat.loc[cbg].sum()\n",
    "                \n",
    "            return dist_mat\n",
    "            \n",
    "        sim_huff_mat = comp_huff_mat(sim_poi_locs, sim_poi_areas, sim_poi_div, sim_poi_count)\n",
    "        \n",
    "        area_series = poi_areas.area_square_feet\n",
    "        act_huff_mat = comp_huff_mat(poi_locs, area_series, poi_div_count.loc[poi_locs.index, 'poi_diversity_where_store_is'], poi_div_count.loc[poi_locs.index, 'poi_count_where_store_is'])\n",
    "\n",
    "        pattern_dir = join(pwd, dpath, 'filtered-patterns-msa', 'NYC-patterns')\n",
    "        date_format = '%Y-%m-%d'\n",
    "        pattern_files = [(datetime.strptime(f.split('.')[0], date_format), join(pattern_dir, f)) for f in os.listdir(pattern_dir)]\n",
    "\n",
    "        patterns = []\n",
    "        for dt, f in pattern_files:\n",
    "            if dt >= start_date and dt <= end_date:\n",
    "                patterns.append(f)\n",
    "\n",
    "        poi_cbg_visits = agg_visits_by_cbgs(act_huff_mat, patterns)\n",
    "        visits = poi_cbg_visits.sum(axis=1)\n",
    "        \n",
    "        act_visits = act_huff_mat.mul(visits, axis=0).sum(axis=0)\n",
    "        sim_visits = sim_huff_mat.mul(visits, axis=0).sum(axis=0)\n",
    "        \n",
    "        dist_matrix = comp_dist_matrix(cbg_locs, poi_locs)\n",
    "        def dist_chg(visits):\n",
    "            dists = []\n",
    "            for cbg in dist_matrix.index:\n",
    "                visits = poi_cbg_visits.loc[cbg]\n",
    "                visits = visits[visits > 0]\n",
    "                dist = dist_matrix.loc[cbg, visits.index]\n",
    "                dists.extend(list(dist.repeat(np.ceil(visits).astype(int).values)))\n",
    "            return np.median(dists)\n",
    "        \n",
    "        print('Change in median distance in km', dist_chg(act_visits) - dist_chg(sim_visits))\n",
    "        \n",
    "        diff = sim_visits.loc[act_visits.index] - act_visits\n",
    "        \n",
    "        print(f'Change in visits for spreader CBGS: {diff[pois_in_spreader_cbgs].sum() / act_visits.loc[pois_in_spreader_cbgs].sum()*100:.4f}%')\n",
    "        print(diff[pois_in_spreader_cbgs].mean())\n",
    "        # and pct change for the remaining cbgs\n",
    "        print(f'Change in visits for other CBGS: {diff[other_pois].sum() / act_visits.loc[other_pois].sum()*100:.4f}%')\n",
    "        print(diff[other_pois].mean())\n",
    "        print(f'Change in visits to non-{source_borough} CBGs: {diff[non_source_borough_poi].sum() / act_visits.loc[non_source_borough_poi].sum()*100:.4f}')"
   ]
  },
  {
   "cell_type": "code",
   "execution_count": 34,
   "metadata": {},
   "outputs": [
    {
     "name": "stderr",
     "output_type": "stream",
     "text": [
      "100%|██████████████████████████████████████████████████████████████████████████████████| 12/12 [00:08<00:00,  1.45it/s]\n"
     ]
    },
    {
     "name": "stdout",
     "output_type": "stream",
     "text": [
      "Change in median distance in km 0.0\n",
      "Change in visits for spreader CBGS: -0.1780%\n",
      "-0.15643012985358543\n",
      "Change in visits for other CBGS: -0.1889%\n",
      "-0.005636026874510446\n",
      "Change in visits to non-Staten Island CBGs: -0.3118\n"
     ]
    }
   ],
   "source": [
    "source_borough = 'Staten Island'\n",
    "target_borough = 'Manhattan'\n",
    "poi_cat = 'Grocery Stores'\n",
    "\n",
    "# spreader cbgs ordered by occurrence rank\n",
    "spreader_cbgs = set(get_spreader_cbgs(pct=0.75))\n",
    "# find the pois in those cbgs\n",
    "pois_in_spreader_cbgs = poi_cbg_ids[poi_cbg_ids.GEOID.isin(spreader_cbgs)].index \n",
    "# and the rest of the pois\n",
    "other_pois = poi_cbg_ids[~poi_cbg_ids.GEOID.isin(spreader_cbgs)].index\n",
    "non_source_borough_poi = poi_cbg_ids[poi_cbg_ids.borough != source_borough].index\n",
    "\n",
    "#poi_div_count = get_cbg_poi_div_count()\n",
    "#cbg_mean_div = poi_div_count.groupby('GEOID').mean()[['poi_diversity_where_store_is', 'poi_count_where_store_is']]\n",
    "\n",
    "res = simulate_matching_poi_per_capita(source_borough, target_borough, poi_cat, poi_per_capita_by_borough, \n",
    "                                     borough_population, poi_counts_by_borough, poi_locs, poi_areas, \n",
    "                                     start_date, end_date, pois_in_spreader_cbgs, other_pois, non_source_borough_poi, poi_div_count.set_index('safegraph_place_id'), cbg_mean_div, r=1000)"
   ]
  },
  {
   "cell_type": "code",
   "execution_count": null,
   "metadata": {},
   "outputs": [],
   "source": []
  }
 ],
 "metadata": {
  "kernelspec": {
   "display_name": "sg_mob",
   "language": "python",
   "name": "sg_mob"
  },
  "language_info": {
   "codemirror_mode": {
    "name": "ipython",
    "version": 3
   },
   "file_extension": ".py",
   "mimetype": "text/x-python",
   "name": "python",
   "nbconvert_exporter": "python",
   "pygments_lexer": "ipython3",
   "version": "3.8.6"
  }
 },
 "nbformat": 4,
 "nbformat_minor": 4
}
