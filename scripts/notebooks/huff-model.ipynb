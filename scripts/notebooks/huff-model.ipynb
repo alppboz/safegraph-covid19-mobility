{
 "cells": [
  {
   "cell_type": "code",
   "execution_count": 2,
   "metadata": {},
   "outputs": [],
   "source": [
    "import sys\n",
    "sys.path.insert(1, '..')\n",
    "from utils import *\n",
    "from sklearn.metrics.pairwise import haversine_distances\n",
    "from math import radians\n",
    "from scipy.stats import gmean\n",
    "\n",
    "%matplotlib inline"
   ]
  },
  {
   "cell_type": "code",
   "execution_count": 2,
   "metadata": {},
   "outputs": [],
   "source": [
    "with open(join('..', '..', 'config.yml')) as f:\n",
    "    config = yaml.safe_load(f)\n",
    "    \n",
    "pwd = config['pwd']\n",
    "dpath = config['storage']\n",
    "patterns = config['pattern-data-path'] \n",
    "util_datasets = config['util_datasets']\n",
    "datasets = config['datasets']\n",
    "colors = config['colors']\n",
    "AREA_NAME = 'NYC'\n",
    "\n",
    "FIG_SAVE_DIR = join(pwd, 'figures')\n",
    "RESULT_SAVE_DIR = join(pwd, 'results')"
   ]
  },
  {
   "cell_type": "code",
   "execution_count": 3,
   "metadata": {},
   "outputs": [],
   "source": [
    "def get_cbg_locs(selected_cbgs=None):\n",
    "    nyc_geojson = join(pwd, 'util_datasets', AREA_NAME, f'{AREA_NAME}-cbgs.json')\n",
    "    base_df = gpd.read_file(nyc_geojson)\n",
    "    base_df = base_df.to_crs('EPSG:4326')\n",
    "    base_df = base_df[base_df.BLKGRPCE != '0']\n",
    "    \n",
    "    if isinstance(selected_cbgs, str):\n",
    "        base_df = base_df[base_df.GEOID.str[:5] == selected_cbgs]\n",
    "    elif isinstance(selected_cbgs, set):\n",
    "        base_df = base_df[base_df.GEOID.isin(selected_cbgs)]\n",
    "    \n",
    "    base_df['centroid_lon'] = base_df.geometry.centroid.x\n",
    "    base_df['centroid_lat'] = base_df.geometry.centroid.y\n",
    "    cbg_locs = base_df[['GEOID', 'centroid_lat', 'centroid_lon']].set_index('GEOID')\n",
    "    \n",
    "    return cbg_locs"
   ]
  },
  {
   "cell_type": "code",
   "execution_count": 4,
   "metadata": {},
   "outputs": [],
   "source": [
    "def get_poi_locs(poi_cat=None):\n",
    "    poi_dir = join(pwd, dpath, 'area-pois', AREA_NAME)\n",
    "    dfs = []\n",
    "    for f in os.listdir(poi_dir):\n",
    "        df = pd.read_csv(join(poi_dir, f))\n",
    "        if poi_cat:\n",
    "            df = df[df['top_category'] == poi_cat]\n",
    "        dfs.append(df)\n",
    "\n",
    "    df = pd.concat(dfs).drop_duplicates(subset=['safegraph_place_id'])\n",
    "\n",
    "    poi_locs = df[['safegraph_place_id', 'latitude', 'longitude']].set_index('safegraph_place_id')\n",
    "    return poi_locs"
   ]
  },
  {
   "cell_type": "code",
   "execution_count": 5,
   "metadata": {},
   "outputs": [],
   "source": [
    "def match_poi2cbg(poi_locs):\n",
    "    nyc_geojson = join(pwd, 'util_datasets', AREA_NAME, f'{AREA_NAME}-cbgs.json')\n",
    "    base_df = gpd.read_file(nyc_geojson)\n",
    "    base_df = base_df.to_crs('EPSG:4326')\n",
    "    base_df = base_df[base_df.BLKGRPCE != '0']\n",
    "    base_df = base_df[['GEOID', 'geometry']]\n",
    "    \n",
    "    gdf = gpd.GeoDataFrame(poi_locs.copy(), geometry=gpd.points_from_xy(poi_locs.longitude, poi_locs.latitude))\n",
    "    \n",
    "    return gpd.sjoin(gdf, base_df, how='inner', op='within')"
   ]
  },
  {
   "cell_type": "code",
   "execution_count": 6,
   "metadata": {},
   "outputs": [],
   "source": [
    "def get_nvisits(row, cbg_visits, keys, visit_records, seen_cbg_poi_pairs):\n",
    "    poi = row['safegraph_place_id']\n",
    "    entries = json.loads(row['visitor_home_cbgs'])\n",
    "    for cbg in entries.keys():\n",
    "        visits = {'poi': poi}\n",
    "        if cbg in keys:\n",
    "            cbg_visits.loc[cbg, 'nvisits'] += entries[cbg]\n",
    "            visits['cbg'] = cbg\n",
    "            visits['nvisits'] = entries[cbg]\n",
    "            seen_cbg_poi_pairs.add('-'.join([poi, cbg]))\n",
    "            visit_records.append(visits)"
   ]
  },
  {
   "cell_type": "code",
   "execution_count": 7,
   "metadata": {},
   "outputs": [],
   "source": [
    "def agg_visits_by_cbgs(distance_mat, pattern_dir, pattern_files=None):\n",
    "    cbg_visits = pd.DataFrame(np.zeros(distance_mat.shape[0]), index=distance_mat.index, columns=['nvisits'])\n",
    "    cbg_lookup = set(distance_mat.index)\n",
    "    poi_lookup = set(distance_mat.columns)\n",
    "    visit_records = []\n",
    "    seen_cbg_poi_pairs = set()\n",
    "    \n",
    "    if not pattern_files:\n",
    "        pattern_files = os.listdir(pattern_dir)\n",
    "    \n",
    "    for f in tqdm(pattern_files):\n",
    "        df = pd.read_csv(join(pattern_dir, f))\n",
    "        df = df[df.safegraph_place_id.isin(poi_lookup)]\n",
    "        df.apply(get_nvisits, cbg_visits=cbg_visits, keys=cbg_lookup, axis=1, visit_records=visit_records, seen_cbg_poi_pairs=seen_cbg_poi_pairs)\n",
    "        \n",
    "    for cbg in tqdm(cbg_lookup):\n",
    "        for poi in poi_lookup:\n",
    "            if '-'.join([poi, cbg]) not in seen_cbg_poi_pairs:\n",
    "                visit_records.append({\n",
    "                    'poi': poi,\n",
    "                    'cbg': cbg,\n",
    "                    'nvisits': 0\n",
    "                })\n",
    "\n",
    "    return pd.DataFrame(visit_records).set_index('cbg')"
   ]
  },
  {
   "cell_type": "code",
   "execution_count": 8,
   "metadata": {},
   "outputs": [],
   "source": [
    "def get_spreader_cbgs(pct=0.75):\n",
    "    spreader_cbgs = pd.read_csv(join(pwd, util_datasets, 'nyc_spreader_rank.csv'))\n",
    "    return spreader_cbgs[spreader_cbgs['rank'] >= pct].cbg.astype(str).values\n",
    "\n",
    "def gen_rand_loc(c_lat, c_lng, r=1000):\n",
    "    # https://github.com/rmrs/random-location/blob/master/src/index.js\n",
    "    sin_lat = np.sin(np.radians(c_lat))\n",
    "    cos_lat = np.cos(np.radians(c_lat))\n",
    "    \n",
    "    bearing = np.random.rand() * np.pi * 2\n",
    "    sin_bearing = np.sin(bearing)\n",
    "    cos_bearing = np.cos(bearing)\n",
    "    \n",
    "    t = r / 6371000\n",
    "    sint = np.sin(t)\n",
    "    cost = np.cos(t)\n",
    "    \n",
    "    rlat = np.arcsin(sin_lat * cost + cos_lat * sint * cos_bearing)\n",
    "    rlng = np.radians(c_lng) + np.arctan2(sin_bearing * sint * cos_lat, cost - sin_lat * np.sin(rlat))\n",
    "    rlng = ((rlng + np.pi*3) % (np.pi*2)) - np.pi;\n",
    "    \n",
    "    to_deg = lambda rad: rad / (np.pi / 180)\n",
    "    \n",
    "    return [to_deg(rlat), to_deg(rlng)]"
   ]
  },
  {
   "cell_type": "code",
   "execution_count": 9,
   "metadata": {},
   "outputs": [],
   "source": [
    "def ols_alpha(agg_visits, d_alpha):\n",
    "    alphas = {}\n",
    "    r2 = []\n",
    "    p = []\n",
    "    \n",
    "    for cbg in tqdm(agg_visits.index.unique()):\n",
    "        cbg_records = agg_visits.loc[cbg].set_index('poi')\n",
    "        cbg_records['nvisits'] /= cbg_records['nvisits'].sum()\n",
    "        cbg_records['nvisits'] += 1e-8\n",
    "        cbg_records['d_alpha'] = 0\n",
    "        \n",
    "        # find P_ij / P_i^hat (geometric mean of P_i^hat)\n",
    "        cbg_records['nvisits'] /= gmean(cbg_records['nvisits'])\n",
    "        # geometric mean of distances\n",
    "        D_gmean = gmean(d_alpha.loc[cbg])\n",
    "\n",
    "        for ind in cbg_records.index:\n",
    "            cbg_records.loc[ind, 'd_alpha'] = d_alpha.loc[cbg, ind] / D_gmean\n",
    "\n",
    "        reg_table = np.log(cbg_records)\n",
    "        #reg_table = sm.add_constant(reg_table, prepend=False, has_constant='add')\n",
    "\n",
    "        model = sm.OLS(reg_table['nvisits'], reg_table[['d_alpha']])\n",
    "        results = model.fit()\n",
    "        #print(results.summary())\n",
    "        alpha = results.params[0]\n",
    "        alphas[cbg] = alpha\n",
    "        r2.append(results.rsquared)\n",
    "        p.append(results.pvalues[0])\n",
    "    \n",
    "    return alphas, r2, p"
   ]
  },
  {
   "cell_type": "code",
   "execution_count": null,
   "metadata": {},
   "outputs": [],
   "source": []
  },
  {
   "cell_type": "code",
   "execution_count": 10,
   "metadata": {},
   "outputs": [],
   "source": [
    "def comp_dist_matrix(cbg_locs, poi_locs, alphas=None):\n",
    "    dist_matrix = pd.DataFrame(haversine_distances(np.radians(cbg_locs), np.radians(poi_locs)) * 6371, index=cbg_locs.index, columns=poi_locs.index)\n",
    "    \n",
    "    if alphas:\n",
    "        #dist_matrix = 1/dist_matrix\n",
    "\n",
    "        for cbg, alpha in alphas.items():\n",
    "            dist_matrix.loc[cbg] *= alpha\n",
    "\n",
    "        return dist_matrix.div(dist_matrix.sum(axis=1), axis=0)\n",
    "    \n",
    "    return dist_matrix"
   ]
  },
  {
   "cell_type": "code",
   "execution_count": 11,
   "metadata": {},
   "outputs": [],
   "source": [
    "borough = 'Staten Island'\n",
    "selected_cbsg = str(nyc_borough2fips[borough])\n",
    "cbg_locs = get_cbg_locs(selected_cbgs=selected_cbsg)\n",
    "\n",
    "poi_cat = 'Grocery Stores'\n",
    "poi_locs = get_poi_locs(poi_cat=poi_cat)\n",
    "\n",
    "poi_cbg_ids = match_poi2cbg(poi_locs)"
   ]
  },
  {
   "cell_type": "code",
   "execution_count": 13,
   "metadata": {},
   "outputs": [],
   "source": [
    "d_alpha = comp_dist_matrix(cbg_locs, poi_locs)"
   ]
  },
  {
   "cell_type": "code",
   "execution_count": 15,
   "metadata": {},
   "outputs": [
    {
     "name": "stderr",
     "output_type": "stream",
     "text": [
      "100%|██████████████████████████████████████████████████████████████████████████████████| 11/11 [00:07<00:00,  1.45it/s]\n",
      "100%|███████████████████████████████████████████████████████████████████████████████| 309/309 [00:02<00:00, 152.82it/s]\n"
     ]
    }
   ],
   "source": [
    "pattern_dir = join(pwd, dpath, 'filtered-patterns-msa', 'NYC-patterns')\n",
    "patterns = ['2020-03-23.csv', '2020-03-30.csv', '2020-04-06.csv', '2020-04-13.csv', \n",
    "            '2020-04-20.csv', '2020-04-27.csv', '2020-05-04.csv', '2020-05-11.csv', \n",
    "            '2020-05-18.csv', '2020-05-25.csv', '2020-06-01.csv']\n",
    "\n",
    "#patterns = os.listdir(pattern_dir)[:15]\n",
    "\n",
    "poi_cbg_visits = agg_visits_by_cbgs(d_alpha, pattern_dir, pattern_files=patterns)\n",
    "poi_cbg_visits = poi_cbg_visits[poi_cbg_visits.nvisits > 0]"
   ]
  },
  {
   "cell_type": "code",
   "execution_count": 16,
   "metadata": {},
   "outputs": [],
   "source": [
    "poi_locs = poi_locs.loc[poi_cbg_visits.poi.unique()]\n",
    "cbg_locs = cbg_locs.loc[poi_cbg_visits.index.unique()]\n",
    "d_alpha = comp_dist_matrix(cbg_locs, poi_locs)"
   ]
  },
  {
   "cell_type": "code",
   "execution_count": 191,
   "metadata": {},
   "outputs": [
    {
     "data": {
      "text/plain": [
       "(23456, 306)"
      ]
     },
     "execution_count": 191,
     "metadata": {},
     "output_type": "execute_result"
    }
   ],
   "source": [
    "len(poi_cbg_visits.index), len(poi_cbg_visits.index.unique())"
   ]
  },
  {
   "cell_type": "code",
   "execution_count": 17,
   "metadata": {},
   "outputs": [
    {
     "name": "stderr",
     "output_type": "stream",
     "text": [
      "100%|████████████████████████████████████████████████████████████████████████████████| 307/307 [00:16<00:00, 18.51it/s]\n"
     ]
    },
    {
     "data": {
      "image/png": "[encoded data removed]",
      "text/plain": [
       "<Figure size 720x360 with 2 Axes>"
      ]
     },
     "metadata": {
      "needs_background": "light"
     },
     "output_type": "display_data"
    }
   ],
   "source": [
    "alpha_params, r2, p = ols_alpha(poi_cbg_visits, d_alpha)\n",
    "\n",
    "save_dir = join(RESULT_SAVE_DIR, 'huff-params')\n",
    "if not exists(save_dir):\n",
    "    os.mkdir(save_dir)\n",
    "\n",
    "with open(join(save_dir, f'{borough}-params.json'), 'w') as f:\n",
    "    json.dump(alpha_params, f)\n",
    "    \n",
    "fig, axes = plt.subplots(1,2,figsize=(10, 5))\n",
    "\n",
    "r2ax = axes[0]\n",
    "r2ax.hist(r2)\n",
    "\n",
    "pax = axes[1]\n",
    "pax.hist(p);"
   ]
  },
  {
   "cell_type": "code",
   "execution_count": 163,
   "metadata": {},
   "outputs": [],
   "source": [
    "with open(join(save_dir, f'{borough}-params.json'), 'r') as f:\n",
    "    alpha_params = json.load(f)"
   ]
  },
  {
   "cell_type": "code",
   "execution_count": 18,
   "metadata": {},
   "outputs": [],
   "source": [
    "rand_gen_poi_locs = []\n",
    "for cbg in cbg_locs.index:\n",
    "    entry = cbg_locs.loc[cbg]\n",
    "    rand_gen_poi_locs.append(gen_rand_loc(entry['centroid_lat'], entry['centroid_lon'], r=1000))\n",
    "    \n",
    "rand_gen_poi_locs = pd.DataFrame(rand_gen_poi_locs, columns=poi_locs.columns)"
   ]
  },
  {
   "cell_type": "code",
   "execution_count": 19,
   "metadata": {},
   "outputs": [],
   "source": [
    "sim_poi_locs = pd.concat([poi_locs, rand_gen_poi_locs])\n",
    "sim_d_alpha = comp_dist_matrix(cbg_locs, sim_poi_locs, alphas=alpha_params)"
   ]
  },
  {
   "cell_type": "code",
   "execution_count": 20,
   "metadata": {},
   "outputs": [],
   "source": [
    "# total visits by each cbg\n",
    "total_cbg_visits = poi_cbg_visits.groupby(poi_cbg_visits.index).nvisits.sum().loc[sim_d_alpha.index]\n",
    "# multiply total visits by dist^-alpha (with hypothetical pois)\n",
    "sim_visits2pois = sim_d_alpha.mul(total_cbg_visits.values, axis=0).sum(axis=0)\n",
    "# get the actual visits for each poi\n",
    "actual_poi_visits = poi_cbg_visits.groupby('poi').nvisits.sum()\n",
    "# and also the actual set of pois\n",
    "# actual_visits2pois = d_alpha.mul(total_cbg_visits.values, axis=0).sum(axis=0)\n",
    "# find the difference between simulation and actual setting\n",
    "nonzero_actual_visits = actual_poi_visits[actual_poi_visits > 0]\n",
    "sim_diff = (sim_visits2pois.loc[nonzero_actual_visits.index] - nonzero_actual_visits) / nonzero_actual_visits"
   ]
  },
  {
   "cell_type": "code",
   "execution_count": 25,
   "metadata": {},
   "outputs": [
    {
     "data": {
      "text/plain": [
       "3.948988782909833"
      ]
     },
     "execution_count": 25,
     "metadata": {},
     "output_type": "execute_result"
    }
   ],
   "source": [
    "sim_diff[sim_diff.index.isin(pois_in_spreader_cbgs)].mean()"
   ]
  },
  {
   "cell_type": "code",
   "execution_count": 23,
   "metadata": {},
   "outputs": [],
   "source": [
    "# spreader cbgs ordered by occurrence rank\n",
    "spreader_cbgs = set(get_spreader_cbgs(pct=0.75))\n",
    "# find the pois in those cbgs\n",
    "pois_in_spreader_cbgs = poi_cbg_ids[poi_cbg_ids.GEOID.isin(spreader_cbgs)].index\n",
    "# and the rest of the pois\n",
    "# other_pois = poi_cbg_ids[~poi_cbg_ids.GEOID.isin(spreader_cbgs)].index\n",
    "# # pct change for spreader cbgs\n",
    "# print(f'Change in visits for spreader CBGS: {sim_diff[pois_in_spreader_cbgs].sum() / actual_visits2pois.loc[pois_in_spreader_cbgs].sum()*100:.4f}%')\n",
    "# # and pct change for the remaining cbgs\n",
    "# print(f'Change in visits for other CBGS: {sim_diff[other_pois].sum() / actual_visits2pois.loc[other_pois].sum()*100:.4f}%')"
   ]
  },
  {
   "cell_type": "code",
   "execution_count": 88,
   "metadata": {},
   "outputs": [],
   "source": [
    "kk = actual_poi_visits[actual_poi_visits > 0]\n",
    "x = sim_visits2pois.loc[kk.index] - kk"
   ]
  },
  {
   "cell_type": "code",
   "execution_count": 98,
   "metadata": {},
   "outputs": [
    {
     "data": {
      "image/png": "[encoded data removed]",
      "text/plain": [
       "<Figure size 432x288 with 1 Axes>"
      ]
     },
     "metadata": {
      "needs_background": "light"
     },
     "output_type": "display_data"
    }
   ],
   "source": [
    "plt.boxplot(x / kk);"
   ]
  },
  {
   "cell_type": "code",
   "execution_count": null,
   "metadata": {},
   "outputs": [],
   "source": []
  }
 ],
 "metadata": {
  "kernelspec": {
   "display_name": "sg_mob",
   "language": "python",
   "name": "sg_mob"
  },
  "language_info": {
   "codemirror_mode": {
    "name": "ipython",
    "version": 3
   },
   "file_extension": ".py",
   "mimetype": "text/x-python",
   "name": "python",
   "nbconvert_exporter": "python",
   "pygments_lexer": "ipython3",
   "version": "3.8.6"
  }
 },
 "nbformat": 4,
 "nbformat_minor": 4
}
